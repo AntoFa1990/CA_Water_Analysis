{
 "cells": [
  {
   "cell_type": "code",
   "execution_count": 31,
   "id": "8cce1948",
   "metadata": {},
   "outputs": [],
   "source": [
    "import matplotlib.pyplot as plt\n",
    "import pandas as pd\n",
    "import numpy as np\n",
    "import requests\n",
    "import json\n",
    "import urllib.request\n",
    "import time\n",
    "from scipy.stats import linregress\n",
    "from pandas.io.json import json_normalize "
   ]
  },
  {
   "cell_type": "code",
   "execution_count": 32,
   "id": "d24c8d16",
   "metadata": {},
   "outputs": [],
   "source": [
    "#URL search as a single string\n",
    "#url = 'https://data.ca.gov/api/3/action/datastore_search?resource_id=819dfd68-4711-49e0-8d85-77f8238a1cd4&q=parameter:arsenic'  "
   ]
  },
  {
   "cell_type": "code",
   "execution_count": 33,
   "id": "290fbc3e",
   "metadata": {},
   "outputs": [],
   "source": [
    "#URL broken into endpoint & search components to search for arsenic\n",
    "base_url = 'https://data.ca.gov/api/3/action/datastore_search?resource_id=819dfd68-4711-49e0-8d85-77f8238a1cd4'\n",
    "search_name = 'parameter:arsenic'\n",
    "limit_num = '5000'\n",
    "query_url = base_url + '&limit=' + limit_num + '&q=' + search_name "
   ]
  },
  {
   "cell_type": "code",
   "execution_count": 34,
   "id": "ecc65398",
   "metadata": {},
   "outputs": [],
   "source": [
    "#request response from Database\n",
    "response = urllib.request.urlopen(query_url)\n",
    "\n",
    "#jsonify the data\n",
    "response_arsenic = json.loads(response.read())\n",
    "\n",
    "arsenic_df = pd.DataFrame(response_arsenic)\n",
    "\n",
    "#pretty print to examine data \n",
    "\n",
    "from pprint import pprint\n",
    "#pprint(json.dumps(response_arsenic,indent=4))"
   ]
  },
  {
   "cell_type": "raw",
   "id": "ce9a64db",
   "metadata": {},
   "source": [
    "with open(query_url) as f:d = json.load(f)\n",
    "  \n",
    "# lets put the data into a pandas df\n",
    "\n",
    "dataframe = json_normalize(d['_id'])\n",
    "\n",
    "dataframe.head()"
   ]
  },
  {
   "cell_type": "code",
   "execution_count": 26,
   "id": "578a65ed",
   "metadata": {},
   "outputs": [
    {
     "ename": "ValueError",
     "evalue": "DataFrame constructor not properly called!",
     "output_type": "error",
     "traceback": [
      "\u001b[0;31m---------------------------------------------------------------------------\u001b[0m",
      "\u001b[0;31mValueError\u001b[0m                                Traceback (most recent call last)",
      "Input \u001b[0;32mIn [26]\u001b[0m, in \u001b[0;36m<cell line: 92>\u001b[0;34m()\u001b[0m\n\u001b[1;32m      3\u001b[0m record \u001b[38;5;241m=\u001b[39m \u001b[38;5;124m\"\"\"\u001b[39m\u001b[38;5;124msuccess\u001b[39m\u001b[38;5;124m\"\u001b[39m\u001b[38;5;124m: true,\u001b[39m\u001b[38;5;130;01m\\n\u001b[39;00m\u001b[38;5;124m'\u001b[39m\n\u001b[1;32m      4\u001b[0m \u001b[38;5;124m \u001b[39m\u001b[38;5;124m'\u001b[39m\u001b[38;5;124m    \u001b[39m\u001b[38;5;124m\"\u001b[39m\u001b[38;5;124mresult\u001b[39m\u001b[38;5;124m\"\u001b[39m\u001b[38;5;124m: \u001b[39m\u001b[38;5;124m{\u001b[39m\u001b[38;5;130;01m\\n\u001b[39;00m\u001b[38;5;124m'\u001b[39m\n\u001b[1;32m      5\u001b[0m \u001b[38;5;124m \u001b[39m\u001b[38;5;124m'\u001b[39m\u001b[38;5;124m        \u001b[39m\u001b[38;5;124m\"\u001b[39m\u001b[38;5;124minclude_total\u001b[39m\u001b[38;5;124m\"\u001b[39m\u001b[38;5;124m: true,\u001b[39m\u001b[38;5;130;01m\\n\u001b[39;00m\u001b[38;5;124m'\u001b[39m\n\u001b[0;32m   (...)\u001b[0m\n\u001b[1;32m     87\u001b[0m \u001b[38;5;124m \u001b[39m\u001b[38;5;124m'\u001b[39m\u001b[38;5;124m            }\u001b[39m\u001b[38;5;130;01m\\n\u001b[39;00m\u001b[38;5;124m'\u001b[39m\n\u001b[1;32m     88\u001b[0m \u001b[38;5;124m \u001b[39m\u001b[38;5;124m'\u001b[39m\u001b[38;5;124m        ],\u001b[39m\u001b[38;5;130;01m\\n\u001b[39;00m\u001b[38;5;124m'\u001b[39m\u001b[38;5;124m\"\"\"\u001b[39m\n\u001b[1;32m     91\u001b[0m \u001b[38;5;66;03m# create a dataframe \u001b[39;00m\n\u001b[0;32m---> 92\u001b[0m arsenic_dataframe \u001b[38;5;241m=\u001b[39m \u001b[43mpd\u001b[49m\u001b[38;5;241;43m.\u001b[39;49m\u001b[43mDataFrame\u001b[49m\u001b[43m(\u001b[49m\u001b[43mrecord\u001b[49m\u001b[43m,\u001b[49m\n\u001b[1;32m     93\u001b[0m \u001b[43m                         \u001b[49m\u001b[43mcolumns\u001b[49m\u001b[43m \u001b[49m\u001b[38;5;241;43m=\u001b[39;49m\u001b[43m \u001b[49m\u001b[43m[\u001b[49m\u001b[38;5;124;43m\"\u001b[39;49m\u001b[38;5;124;43m_id\u001b[39;49m\u001b[38;5;124;43m\"\u001b[39;49m\u001b[43m,\u001b[49m\u001b[43m \u001b[49m\u001b[38;5;124;43m\"\u001b[39;49m\u001b[38;5;124;43mstation_id\u001b[39;49m\u001b[38;5;124;43m\"\u001b[39;49m\u001b[43m,\u001b[49m\u001b[38;5;124;43m\"\u001b[39;49m\u001b[38;5;124;43mstation_name\u001b[39;49m\u001b[38;5;124;43m\"\u001b[39;49m\u001b[43m,\u001b[49m\u001b[38;5;124;43m\"\u001b[39;49m\u001b[38;5;124;43msample_date\u001b[39;49m\u001b[38;5;124;43m\"\u001b[39;49m\u001b[43m,\u001b[49m\u001b[38;5;124;43m\"\u001b[39;49m\u001b[38;5;124;43msample_depth\u001b[39;49m\u001b[38;5;124;43m\"\u001b[39;49m\u001b[43m,\u001b[49m\u001b[43m \u001b[49m\u001b[38;5;124;43m\"\u001b[39;49m\u001b[38;5;124;43mstation_type\u001b[39;49m\u001b[38;5;124;43m\"\u001b[39;49m\u001b[43m,\u001b[49m\u001b[43m \u001b[49m\u001b[38;5;124;43m\"\u001b[39;49m\u001b[38;5;124;43mparameter\u001b[39;49m\u001b[38;5;124;43m\"\u001b[39;49m\u001b[43m,\u001b[49m\u001b[43m \u001b[49m\u001b[38;5;124;43m\"\u001b[39;49m\u001b[38;5;124;43mresult\u001b[39;49m\u001b[38;5;124;43m\"\u001b[39;49m\u001b[43m,\u001b[49m\u001b[43m \u001b[49m\u001b[38;5;124;43m\"\u001b[39;49m\u001b[38;5;124;43munits\u001b[39;49m\u001b[38;5;124;43m\"\u001b[39;49m\u001b[43m]\u001b[49m\u001b[43m)\u001b[49m \n\u001b[1;32m     95\u001b[0m \u001b[38;5;66;03m# show the Dataframe\u001b[39;00m\n\u001b[1;32m     96\u001b[0m \u001b[38;5;28mprint\u001b[39m(arsenic_dataframe)\n",
      "File \u001b[0;32m~/opt/anaconda3/lib/python3.9/site-packages/pandas/core/frame.py:756\u001b[0m, in \u001b[0;36mDataFrame.__init__\u001b[0;34m(self, data, index, columns, dtype, copy)\u001b[0m\n\u001b[1;32m    753\u001b[0m \u001b[38;5;66;03m# For data is scalar\u001b[39;00m\n\u001b[1;32m    754\u001b[0m \u001b[38;5;28;01melse\u001b[39;00m:\n\u001b[1;32m    755\u001b[0m     \u001b[38;5;28;01mif\u001b[39;00m index \u001b[38;5;129;01mis\u001b[39;00m \u001b[38;5;28;01mNone\u001b[39;00m \u001b[38;5;129;01mor\u001b[39;00m columns \u001b[38;5;129;01mis\u001b[39;00m \u001b[38;5;28;01mNone\u001b[39;00m:\n\u001b[0;32m--> 756\u001b[0m         \u001b[38;5;28;01mraise\u001b[39;00m \u001b[38;5;167;01mValueError\u001b[39;00m(\u001b[38;5;124m\"\u001b[39m\u001b[38;5;124mDataFrame constructor not properly called!\u001b[39m\u001b[38;5;124m\"\u001b[39m)\n\u001b[1;32m    758\u001b[0m     \u001b[38;5;66;03m# Argument 1 to \"ensure_index\" has incompatible type \"Collection[Any]\";\u001b[39;00m\n\u001b[1;32m    759\u001b[0m     \u001b[38;5;66;03m# expected \"Union[Union[Union[ExtensionArray, ndarray],\u001b[39;00m\n\u001b[1;32m    760\u001b[0m     \u001b[38;5;66;03m# Index, Series], Sequence[Any]]\"\u001b[39;00m\n\u001b[1;32m    761\u001b[0m     index \u001b[38;5;241m=\u001b[39m ensure_index(index)  \u001b[38;5;66;03m# type: ignore[arg-type]\u001b[39;00m\n",
      "\u001b[0;31mValueError\u001b[0m: DataFrame constructor not properly called!"
     ]
    }
   ],
   "source": [
    "# declare a dictionary\n",
    "\n",
    "record = \"\"\"success\": true,\\n'\n",
    " '    \"result\": {\\n'\n",
    " '        \"include_total\": true,\\n'\n",
    " '        \"resource_id\": \"819dfd68-4711-49e0-8d85-77f8238a1cd4\",\\n'\n",
    " '        \"fields\": [\\n'\n",
    " '            {\\n'\n",
    " '                \"type\": \"int\",\\n'\n",
    " '                \"id\": \"_id\"\\n'\n",
    " '            },\\n'\n",
    " '            {\\n'\n",
    " '                \"type\": \"text\",\\n'\n",
    " '                \"id\": \"station_id\"\\n'\n",
    " '            },\\n'\n",
    " '            {\\n'\n",
    " '                \"type\": \"text\",\\n'\n",
    " '                \"id\": \"station_name\"\\n'\n",
    " '            },\\n'\n",
    " '            {\\n'\n",
    " '                \"type\": \"text\",\\n'\n",
    " '                \"id\": \"full_station_name\"\\n'\n",
    " '            },\\n'\n",
    " '            {\\n'\n",
    " '                \"type\": \"text\",\\n'\n",
    " '                \"id\": \"station_number\"\\n'\n",
    " '            },\\n'\n",
    " '            {\\n'\n",
    " '                \"type\": \"text\",\\n'\n",
    " '                \"id\": \"station_type\"\\n'\n",
    " '            },\\n'\n",
    " '            {\\n'\n",
    " '                \"type\": \"text\",\\n'\n",
    " '                \"id\": \"latitude\"\\n'\n",
    " '            },\\n'\n",
    " '            {\\n'\n",
    " '                \"type\": \"text\",\\n'\n",
    " '                \"id\": \"longitude\"\\n'\n",
    " '            },\\n'\n",
    " '            {\\n'\n",
    " '                \"type\": \"text\",\\n'\n",
    " '                \"id\": \"status\"\\n'\n",
    " '            },\\n'\n",
    " '            {\\n'\n",
    " '                \"type\": \"text\",\\n'\n",
    " '                \"id\": \"county_name\"\\n'\n",
    " '            },\\n'\n",
    " '            {\\n'\n",
    " '                \"type\": \"text\",\\n'\n",
    " '                \"id\": \"sample_code\"\\n'\n",
    " '            },\\n'\n",
    " '            {\\n'\n",
    " '                \"type\": \"text\",\\n'\n",
    " '                \"id\": \"sample_date\"\\n'\n",
    " '            },\\n'\n",
    " '            {\\n'\n",
    " '                \"type\": \"text\",\\n'\n",
    " '                \"id\": \"sample_depth\"\\n'\n",
    " '            },\\n'\n",
    " '            {\\n'\n",
    " '                \"type\": \"text\",\\n'\n",
    " '                \"id\": \"sample_depth_units\"\\n'\n",
    " '            },\\n'\n",
    " '            {\\n'\n",
    " '                \"type\": \"text\",\\n'\n",
    " '                \"id\": \"parameter\"\\n'\n",
    " '            },\\n'\n",
    " '            {\\n'\n",
    " '                \"type\": \"text\",\\n'\n",
    " '                \"id\": \"result\"\\n'\n",
    " '            },\\n'\n",
    " '            {\\n'\n",
    " '                \"type\": \"text\",\\n'\n",
    " '                \"id\": \"reporting_limit\"\\n'\n",
    " '            },\\n'\n",
    " '            {\\n'\n",
    " '                \"type\": \"text\",\\n'\n",
    " '                \"id\": \"units\"\\n'\n",
    " '            },\\n'\n",
    " '            {\\n'\n",
    " '                \"type\": \"text\",\\n'\n",
    " '                \"id\": \"method_name\"\\n'\n",
    " '            },\\n'\n",
    " '            {\\n'\n",
    " '                \"type\": \"float\",\\n'\n",
    " '                \"id\": \"rank\"\\n'\n",
    " '            }\\n'\n",
    " '        ],\\n'\"\"\"\n",
    "\n",
    "\n",
    "# create a dataframe \n",
    "arsenic_dataframe = pd.DataFrame(record,\n",
    "                         columns = [\"_id\", \"station_id\",\"station_name\",\"sample_date\",\"sample_depth\", \"station_type\", \"parameter\", \"result\", \"units\"]) \n",
    "\n",
    "# show the Dataframe\n",
    "print(arsenic_dataframe)\n",
    "\n"
   ]
  },
  {
   "cell_type": "code",
   "execution_count": null,
   "id": "441195d3",
   "metadata": {},
   "outputs": [],
   "source": []
  },
  {
   "cell_type": "code",
   "execution_count": null,
   "id": "349915f8",
   "metadata": {},
   "outputs": [],
   "source": [
    "\n"
   ]
  },
  {
   "cell_type": "code",
   "execution_count": null,
   "id": "178e3592",
   "metadata": {},
   "outputs": [],
   "source": []
  },
  {
   "cell_type": "code",
   "execution_count": null,
   "id": "ad720bb6",
   "metadata": {},
   "outputs": [],
   "source": []
  },
  {
   "cell_type": "code",
   "execution_count": null,
   "id": "f9938f66",
   "metadata": {},
   "outputs": [],
   "source": []
  }
 ],
 "metadata": {
  "kernelspec": {
   "display_name": "Python 3 (ipykernel)",
   "language": "python",
   "name": "python3"
  },
  "language_info": {
   "codemirror_mode": {
    "name": "ipython",
    "version": 3
   },
   "file_extension": ".py",
   "mimetype": "text/x-python",
   "name": "python",
   "nbconvert_exporter": "python",
   "pygments_lexer": "ipython3",
   "version": "3.9.12"
  }
 },
 "nbformat": 4,
 "nbformat_minor": 5
}
