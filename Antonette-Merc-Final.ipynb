{
 "cells": [
  {
   "cell_type": "markdown",
   "metadata": {},
   "source": [
    "# Analysis of Mercury Data\n",
    "--"
   ]
  },
  {
   "cell_type": "markdown",
   "metadata": {},
   "source": [
    "# Import Dependancies and Data files"
   ]
  },
  {
   "cell_type": "code",
   "execution_count": 90,
   "metadata": {},
   "outputs": [],
   "source": [
    "#Import dependancies\n",
    "import matplotlib.pyplot as plt\n",
    "import pandas as pd\n",
    "import numpy as np\n",
    "import requests\n",
    "import json\n",
    "import urllib.request\n",
    "\n",
    "import time\n",
    "from scipy.stats import linregress"
   ]
  },
  {
   "cell_type": "code",
   "execution_count": 92,
   "metadata": {
    "scrolled": false
   },
   "outputs": [],
   "source": [
    "#import datafile from CSV sample file and name as a variable \n",
    "#CSV file we downloaded from CA open data that Adam cleaned up & adjusted unit types to match\n",
    "me_data_import = \"../CA_Water_Analysis/Mer-Water-Lab-Data.csv\"\n",
    "me_data = pd.read_csv(me_data_import)\n"
   ]
  },
  {
   "cell_type": "markdown",
   "metadata": {},
   "source": [
    "# Clean Data For Further Analysis"
   ]
  },
  {
   "cell_type": "code",
   "execution_count": 93,
   "metadata": {},
   "outputs": [],
   "source": [
    "#Clean data by splitting combined date and time from sample_date field into a single date only field.\n",
    "for idx, row in me_data.iterrows(): \n",
    "    year=row['sample_date'].split(' ')[0].split('/')[-1]\n",
    "    date=row['sample_date'].split(' ')[0]\n",
    "    time=row['sample_date'].split(' ')[-1]\n",
    "    new_date=date.split('/')[:-1]\n",
    "    new_date=new_date+[f'{year}']\n",
    "    new_date_str='/'.join(new_date)\n",
    "    \n",
    "    me_data.loc[idx, 'sample_date']=new_date_str\n"
   ]
  },
  {
   "cell_type": "code",
   "execution_count": null,
   "metadata": {},
   "outputs": [],
   "source": []
  },
  {
   "cell_type": "markdown",
   "metadata": {},
   "source": [
    "# Isolate 10-Year Period Time Segmented Data for Further Analysis"
   ]
  },
  {
   "cell_type": "code",
   "execution_count": 94,
   "metadata": {},
   "outputs": [
    {
     "data": {
      "text/html": [
       "<div>\n",
       "<style scoped>\n",
       "    .dataframe tbody tr th:only-of-type {\n",
       "        vertical-align: middle;\n",
       "    }\n",
       "\n",
       "    .dataframe tbody tr th {\n",
       "        vertical-align: top;\n",
       "    }\n",
       "\n",
       "    .dataframe thead th {\n",
       "        text-align: right;\n",
       "    }\n",
       "</style>\n",
       "<table border=\"1\" class=\"dataframe\">\n",
       "  <thead>\n",
       "    <tr style=\"text-align: right;\">\n",
       "      <th></th>\n",
       "      <th>station_id</th>\n",
       "      <th>station_name</th>\n",
       "      <th>full_station_name</th>\n",
       "      <th>station_number</th>\n",
       "      <th>station_type</th>\n",
       "      <th>latitude</th>\n",
       "      <th>longitude</th>\n",
       "      <th>status</th>\n",
       "      <th>county_name</th>\n",
       "      <th>sample_code</th>\n",
       "      <th>sample_date</th>\n",
       "      <th>sample_depth</th>\n",
       "      <th>sample_depth_units</th>\n",
       "      <th>parameter</th>\n",
       "      <th>result</th>\n",
       "      <th>reporting_limit</th>\n",
       "      <th>units</th>\n",
       "      <th>method_name</th>\n",
       "    </tr>\n",
       "  </thead>\n",
       "  <tbody>\n",
       "    <tr>\n",
       "      <th>39</th>\n",
       "      <td>259</td>\n",
       "      <td>Del Valle COW</td>\n",
       "      <td>Del Valle Conserv. Outlet Works</td>\n",
       "      <td>DV000000</td>\n",
       "      <td>Surface Water</td>\n",
       "      <td>37.6183</td>\n",
       "      <td>121.7494</td>\n",
       "      <td>Review Status Unknown</td>\n",
       "      <td>Alameda</td>\n",
       "      <td>D0116B0008</td>\n",
       "      <td>2016-01-19</td>\n",
       "      <td>1.0</td>\n",
       "      <td>Meters</td>\n",
       "      <td>Dissolved Mercury</td>\n",
       "      <td>0.0</td>\n",
       "      <td>0.0002</td>\n",
       "      <td>ug/L</td>\n",
       "      <td>EPA 200.8 (Hg Dissolved)</td>\n",
       "    </tr>\n",
       "    <tr>\n",
       "      <th>40</th>\n",
       "      <td>259</td>\n",
       "      <td>Del Valle COW</td>\n",
       "      <td>Del Valle Conserv. Outlet Works</td>\n",
       "      <td>DV000000</td>\n",
       "      <td>Surface Water</td>\n",
       "      <td>37.6183</td>\n",
       "      <td>121.7494</td>\n",
       "      <td>Review Status Unknown</td>\n",
       "      <td>Alameda</td>\n",
       "      <td>DA0212B3393</td>\n",
       "      <td>2012-02-13</td>\n",
       "      <td>1.0</td>\n",
       "      <td>Meters</td>\n",
       "      <td>Dissolved Mercury</td>\n",
       "      <td>0.0</td>\n",
       "      <td>0.0002</td>\n",
       "      <td>ug/L</td>\n",
       "      <td>EPA 200.8 (Hg Dissolved)</td>\n",
       "    </tr>\n",
       "    <tr>\n",
       "      <th>42</th>\n",
       "      <td>259</td>\n",
       "      <td>Del Valle COW</td>\n",
       "      <td>Del Valle Conserv. Outlet Works</td>\n",
       "      <td>DV000000</td>\n",
       "      <td>Surface Water</td>\n",
       "      <td>37.6183</td>\n",
       "      <td>121.7494</td>\n",
       "      <td>Review Status Unknown</td>\n",
       "      <td>Alameda</td>\n",
       "      <td>D0216B0018</td>\n",
       "      <td>2016-02-16</td>\n",
       "      <td>1.0</td>\n",
       "      <td>Meters</td>\n",
       "      <td>Dissolved Mercury</td>\n",
       "      <td>0.0</td>\n",
       "      <td>0.0002</td>\n",
       "      <td>ug/L</td>\n",
       "      <td>EPA 200.8 (Hg Dissolved)</td>\n",
       "    </tr>\n",
       "    <tr>\n",
       "      <th>46</th>\n",
       "      <td>259</td>\n",
       "      <td>Del Valle COW</td>\n",
       "      <td>Del Valle Conserv. Outlet Works</td>\n",
       "      <td>DV000000</td>\n",
       "      <td>Surface Water</td>\n",
       "      <td>37.6183</td>\n",
       "      <td>121.7494</td>\n",
       "      <td>Review Status Unknown</td>\n",
       "      <td>Alameda</td>\n",
       "      <td>D0219B0018</td>\n",
       "      <td>2019-02-19</td>\n",
       "      <td>1.0</td>\n",
       "      <td>Meters</td>\n",
       "      <td>Dissolved Mercury</td>\n",
       "      <td>0.0</td>\n",
       "      <td>0.0002</td>\n",
       "      <td>ug/L</td>\n",
       "      <td>EPA 200.8 (Hg Dissolved)</td>\n",
       "    </tr>\n",
       "    <tr>\n",
       "      <th>52</th>\n",
       "      <td>259</td>\n",
       "      <td>Del Valle COW</td>\n",
       "      <td>Del Valle Conserv. Outlet Works</td>\n",
       "      <td>DV000000</td>\n",
       "      <td>Surface Water</td>\n",
       "      <td>37.6183</td>\n",
       "      <td>121.7494</td>\n",
       "      <td>Review Status Unknown</td>\n",
       "      <td>Alameda</td>\n",
       "      <td>DA0312B3447</td>\n",
       "      <td>2012-03-19</td>\n",
       "      <td>1.0</td>\n",
       "      <td>Meters</td>\n",
       "      <td>Dissolved Mercury</td>\n",
       "      <td>0.0</td>\n",
       "      <td>0.0002</td>\n",
       "      <td>ug/L</td>\n",
       "      <td>EPA 200.8 (Hg Dissolved)</td>\n",
       "    </tr>\n",
       "  </tbody>\n",
       "</table>\n",
       "</div>"
      ],
      "text/plain": [
       "    station_id   station_name                full_station_name station_number  \\\n",
       "39         259  Del Valle COW  Del Valle Conserv. Outlet Works       DV000000   \n",
       "40         259  Del Valle COW  Del Valle Conserv. Outlet Works       DV000000   \n",
       "42         259  Del Valle COW  Del Valle Conserv. Outlet Works       DV000000   \n",
       "46         259  Del Valle COW  Del Valle Conserv. Outlet Works       DV000000   \n",
       "52         259  Del Valle COW  Del Valle Conserv. Outlet Works       DV000000   \n",
       "\n",
       "     station_type  latitude  longitude                 status county_name  \\\n",
       "39  Surface Water   37.6183   121.7494  Review Status Unknown     Alameda   \n",
       "40  Surface Water   37.6183   121.7494  Review Status Unknown     Alameda   \n",
       "42  Surface Water   37.6183   121.7494  Review Status Unknown     Alameda   \n",
       "46  Surface Water   37.6183   121.7494  Review Status Unknown     Alameda   \n",
       "52  Surface Water   37.6183   121.7494  Review Status Unknown     Alameda   \n",
       "\n",
       "    sample_code sample_date  sample_depth sample_depth_units  \\\n",
       "39   D0116B0008  2016-01-19           1.0             Meters   \n",
       "40  DA0212B3393  2012-02-13           1.0             Meters   \n",
       "42   D0216B0018  2016-02-16           1.0             Meters   \n",
       "46   D0219B0018  2019-02-19           1.0             Meters   \n",
       "52  DA0312B3447  2012-03-19           1.0             Meters   \n",
       "\n",
       "            parameter  result  reporting_limit units               method_name  \n",
       "39  Dissolved Mercury     0.0           0.0002  ug/L  EPA 200.8 (Hg Dissolved)  \n",
       "40  Dissolved Mercury     0.0           0.0002  ug/L  EPA 200.8 (Hg Dissolved)  \n",
       "42  Dissolved Mercury     0.0           0.0002  ug/L  EPA 200.8 (Hg Dissolved)  \n",
       "46  Dissolved Mercury     0.0           0.0002  ug/L  EPA 200.8 (Hg Dissolved)  \n",
       "52  Dissolved Mercury     0.0           0.0002  ug/L  EPA 200.8 (Hg Dissolved)  "
      ]
     },
     "execution_count": 94,
     "metadata": {},
     "output_type": "execute_result"
    }
   ],
   "source": [
    "#convert sample date field to panda date format, print to check\n",
    "me_data['sample_date'] = pd.to_datetime(me_data['sample_date'])\n",
    "\n",
    "# Create DataFrame for 2012 to 2022\n",
    "me_data_df = pd.DataFrame(me_data)\n",
    "start_date = '2012-01-01'\n",
    "end_date = '2022-12-31'\n",
    "mask = (me_data_df['sample_date'] > start_date) & (me_data_df['sample_date'] <= end_date)\n",
    "  \n",
    "me_data_df = me_data_df.loc[mask]\n",
    "\n",
    "\n",
    "me_data_df.head()"
   ]
  },
  {
   "cell_type": "code",
   "execution_count": 95,
   "metadata": {},
   "outputs": [
    {
     "name": "stdout",
     "output_type": "stream",
     "text": [
      "There were a total of 70164 Water Samples taken for Mercury between 2012 and 2022\n"
     ]
    }
   ],
   "source": [
    "#count the number of samples for the period\n",
    "Total_Mercury_Samples = me_data_df.size\n",
    "\n",
    "print(f\"There were a total of {Total_Mercury_Samples} Water Samples taken for Mercury between 2012 and 2022\")"
   ]
  },
  {
   "cell_type": "markdown",
   "metadata": {},
   "source": [
    "# Ground Water vs. Surface Water Analysis"
   ]
  },
  {
   "cell_type": "code",
   "execution_count": 116,
   "metadata": {},
   "outputs": [
    {
     "name": "stdout",
     "output_type": "stream",
     "text": [
      "Surface Water 3785\n",
      "Groundwater 83\n",
      "Other 30\n"
     ]
    }
   ],
   "source": [
    "#create a list of stations, indexed by the type of station and count the number of samples for each\n",
    "\n",
    "stations_list = me_data_df['station_type'].value_counts().index\n",
    "\n",
    "s_list = []\n",
    "\n",
    "for station in stations_list:\n",
    "    #print(station)\n",
    "    df = me_data_df.loc[ar_data_df['station_type']==station]\n",
    "    #print the number of datapoints by station type\n",
    "    print(station,len(df))\n",
    "\n"
   ]
  },
  {
   "cell_type": "code",
   "execution_count": 117,
   "metadata": {},
   "outputs": [
    {
     "data": {
      "image/png": "[encoded data removed]",
      "text/plain": [
       "<Figure size 432x288 with 1 Axes>"
      ]
     },
     "metadata": {
      "needs_background": "light"
     },
     "output_type": "display_data"
    }
   ],
   "source": [
    "# Create bar chart to display samples by type of test for the period\n",
    "\n",
    "# Data\n",
    "labels = ['Surface Water', 'Groundwater']\n",
    "sizes = [3785, 83]\n",
    "\n",
    "# Plotting the Stacked Bar Chart\n",
    "fig, ax = plt.subplots()\n",
    "y_pos = np.arange(len(labels))\n",
    "ax.bar(y_pos, sizes, align='center', alpha=0.5, color=['red', 'green', 'blue'], edgecolor='black')\n",
    "\n",
    "# Title and X and Y Axis Labels\n",
    "#plt.title(\"Water sources\")\n",
    "plt.xticks(y_pos, labels)\n",
    "plt.xlabel(\"Station Types\")\n",
    "plt.ylabel(\"Total Mercury Samples\")\n",
    "\n",
    "# Display the Stacked Bar Chart\n",
    "plt.show()"
   ]
  },
  {
   "cell_type": "code",
   "execution_count": 118,
   "metadata": {
    "scrolled": true
   },
   "outputs": [
    {
     "data": {
      "image/png": "[encoded data removed]",
      "text/plain": [
       "<Figure size 432x288 with 1 Axes>"
      ]
     },
     "metadata": {},
     "output_type": "display_data"
    }
   ],
   "source": [
    "# Create pie chart to display samples by type of test for the period\n",
    "labels = ['Surface Water', 'Groundwater']\n",
    "sizes = [3785, 83]\n",
    "\n",
    "# Pie Chart Plot\n",
    "fig1, ax1 = plt.subplots()\n",
    "ax1.pie(sizes, labels=labels, autopct='%1.1f%%', shadow=True, startangle=90)\n",
    "ax1.axis('equal')  # note: Equal aspect ratio ensures that pie is drawn as a circle\n",
    "\n",
    "# Plot title on left\n",
    "#plt.title(\"Mercury 2012-2022\", loc='left')\n",
    "\n",
    "# Plot legend at the bottom\n",
    "plt.legend(labels, loc='center left', bbox_to_anchor=(0.9, 0, 0.5, 1))\n",
    "\n",
    "# Display the Pie Chart\n",
    "plt.show()\n",
    "\n"
   ]
  },
  {
   "cell_type": "code",
   "execution_count": null,
   "metadata": {},
   "outputs": [],
   "source": []
  },
  {
   "cell_type": "markdown",
   "metadata": {},
   "source": [
    "# County by County Analysis"
   ]
  },
  {
   "cell_type": "code",
   "execution_count": 119,
   "metadata": {},
   "outputs": [
    {
     "name": "stdout",
     "output_type": "stream",
     "text": [
      "Total Mercury Samples Taken Per County:\n",
      "Yolo 533\n",
      "Merced 393\n",
      "Solano 344\n",
      "Butte 335\n",
      "Alameda 273\n",
      "Kern 249\n",
      "San Bernardino 247\n",
      "Shasta 183\n",
      "Lake 182\n",
      "Tehama 175\n",
      "Plumas 135\n",
      "Los Angeles 117\n",
      "Contra Costa 116\n",
      "Sutter 96\n",
      "Kings 93\n",
      "Modoc 69\n",
      "Riverside 55\n",
      "San Joaquin 50\n",
      "Humboldt 47\n",
      "Sacramento 32\n",
      "Lassen 25\n",
      "Siskiyou 22\n",
      "Yuba 21\n",
      "Colusa 19\n",
      "Amador 16\n",
      "Mendocino 16\n",
      "Napa 15\n",
      "Del Norte 10\n",
      "Glenn 10\n",
      "Calaveras 9\n",
      "Trinity 6\n",
      "Santa Clara 4\n",
      "San Luis Obispo 1\n"
     ]
    }
   ],
   "source": [
    "#Calculate the number of samples in each county\n",
    "#Title for this output\n",
    "print(\"Total Mercury Samples Taken Per County:\")\n",
    "\n",
    "#create a list of countys, indexed by county\n",
    "\n",
    "countys_list = ar_data_df['county_name'].value_counts().index\n",
    "\n",
    "c_list = []\n",
    "\n",
    "#use for loop to create a new county dataframe called county_df\n",
    "\n",
    "for county in countys_list:\n",
    "    #print(county)\n",
    "    county_df = ar_data_df.loc[ar_data_df['county_name']==county]\n",
    "    #print the number of datapoints by county type\n",
    "    \n",
    "    print(county,len(county_df))\n",
    "    #result = df[\"result\"].nunique()\n",
    "    #print(stations_list)\n"
   ]
  },
  {
   "cell_type": "code",
   "execution_count": null,
   "metadata": {},
   "outputs": [],
   "source": []
  },
  {
   "cell_type": "code",
   "execution_count": null,
   "metadata": {},
   "outputs": [],
   "source": []
  },
  {
   "cell_type": "code",
   "execution_count": null,
   "metadata": {},
   "outputs": [],
   "source": []
  },
  {
   "cell_type": "code",
   "execution_count": null,
   "metadata": {},
   "outputs": [],
   "source": []
  },
  {
   "cell_type": "code",
   "execution_count": null,
   "metadata": {},
   "outputs": [],
   "source": []
  },
  {
   "cell_type": "code",
   "execution_count": null,
   "metadata": {},
   "outputs": [],
   "source": [
    "\n"
   ]
  },
  {
   "cell_type": "code",
   "execution_count": null,
   "metadata": {},
   "outputs": [],
   "source": [
    "\n",
    "\n"
   ]
  },
  {
   "cell_type": "code",
   "execution_count": null,
   "metadata": {},
   "outputs": [],
   "source": [
    "\n"
   ]
  },
  {
   "cell_type": "code",
   "execution_count": 73,
   "metadata": {},
   "outputs": [],
   "source": [
    "\n"
   ]
  },
  {
   "cell_type": "code",
   "execution_count": null,
   "metadata": {},
   "outputs": [],
   "source": []
  },
  {
   "cell_type": "code",
   "execution_count": null,
   "metadata": {
    "scrolled": true
   },
   "outputs": [],
   "source": [
    "\n"
   ]
  },
  {
   "cell_type": "code",
   "execution_count": null,
   "metadata": {},
   "outputs": [],
   "source": []
  },
  {
   "cell_type": "code",
   "execution_count": null,
   "metadata": {},
   "outputs": [],
   "source": []
  },
  {
   "cell_type": "code",
   "execution_count": null,
   "metadata": {},
   "outputs": [],
   "source": []
  },
  {
   "cell_type": "code",
   "execution_count": null,
   "metadata": {},
   "outputs": [],
   "source": []
  },
  {
   "cell_type": "code",
   "execution_count": null,
   "metadata": {
    "scrolled": true
   },
   "outputs": [],
   "source": [
    "\n"
   ]
  },
  {
   "cell_type": "code",
   "execution_count": null,
   "metadata": {},
   "outputs": [],
   "source": []
  },
  {
   "cell_type": "code",
   "execution_count": null,
   "metadata": {},
   "outputs": [],
   "source": []
  },
  {
   "cell_type": "code",
   "execution_count": null,
   "metadata": {},
   "outputs": [],
   "source": []
  },
  {
   "cell_type": "code",
   "execution_count": null,
   "metadata": {},
   "outputs": [],
   "source": []
  }
 ],
 "metadata": {
  "anaconda-cloud": {},
  "kernelspec": {
   "display_name": "Python 3 (ipykernel)",
   "language": "python",
   "name": "python3"
  },
  "language_info": {
   "codemirror_mode": {
    "name": "ipython",
    "version": 3
   },
   "file_extension": ".py",
   "mimetype": "text/x-python",
   "name": "python",
   "nbconvert_exporter": "python",
   "pygments_lexer": "ipython3",
   "version": "3.9.12"
  }
 },
 "nbformat": 4,
 "nbformat_minor": 4
}
