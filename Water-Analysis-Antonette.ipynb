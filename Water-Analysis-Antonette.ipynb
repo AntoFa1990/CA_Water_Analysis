{
 "cells": [
  {
   "cell_type": "markdown",
   "metadata": {},
   "source": [
    "# Water test\n",
    "--"
   ]
  },
  {
   "cell_type": "markdown",
   "metadata": {},
   "source": [
    "# Import Dependancies and Data files"
   ]
  },
  {
   "cell_type": "code",
   "execution_count": 166,
   "metadata": {},
   "outputs": [],
   "source": [
    "#Import dependancies\n",
    "import matplotlib.pyplot as plt\n",
    "import pandas as pd\n",
    "import numpy as np\n",
    "import requests\n",
    "import json\n",
    "import urllib.request\n",
    "\n",
    "import time\n",
    "from scipy.stats import linregress"
   ]
  },
  {
   "cell_type": "code",
   "execution_count": 167,
   "metadata": {
    "scrolled": false
   },
   "outputs": [],
   "source": [
    "#import datafile from CSV sample file and name as a variable (Should be the CSV file we downloaded from CA open data that Adam cleaned up)\n",
    "ar_data_import = \"../CA_Water_Analysis/Ar-Water-Lab-Data.csv\"\n",
    "ar_data = pd.read_csv(ar_data_import)\n"
   ]
  },
  {
   "cell_type": "markdown",
   "metadata": {},
   "source": [
    "# Clean Data For Further Analysis"
   ]
  },
  {
   "cell_type": "code",
   "execution_count": 168,
   "metadata": {},
   "outputs": [],
   "source": [
    "#Clean data by splitting combined date and time from sample_date field into a single date only field.\n",
    "for idx, row in ar_data.iterrows(): \n",
    "    year=row['sample_date'].split(' ')[0].split('/')[-1]\n",
    "    date=row['sample_date'].split(' ')[0]\n",
    "    time=row['sample_date'].split(' ')[-1]\n",
    "    new_date=date.split('/')[:-1]\n",
    "    new_date=new_date+[f'{year}']\n",
    "    new_date_str='/'.join(new_date)\n",
    "    \n",
    "    ar_data.loc[idx, 'sample_date']=new_date_str\n"
   ]
  },
  {
   "cell_type": "code",
   "execution_count": null,
   "metadata": {},
   "outputs": [],
   "source": []
  },
  {
   "cell_type": "markdown",
   "metadata": {},
   "source": [
    "# Isolate Time Segmented Data for further analysis"
   ]
  },
  {
   "cell_type": "code",
   "execution_count": 227,
   "metadata": {},
   "outputs": [
    {
     "data": {
      "text/html": [
       "<div>\n",
       "<style scoped>\n",
       "    .dataframe tbody tr th:only-of-type {\n",
       "        vertical-align: middle;\n",
       "    }\n",
       "\n",
       "    .dataframe tbody tr th {\n",
       "        vertical-align: top;\n",
       "    }\n",
       "\n",
       "    .dataframe thead th {\n",
       "        text-align: right;\n",
       "    }\n",
       "</style>\n",
       "<table border=\"1\" class=\"dataframe\">\n",
       "  <thead>\n",
       "    <tr style=\"text-align: right;\">\n",
       "      <th></th>\n",
       "      <th>station_id</th>\n",
       "      <th>station_name</th>\n",
       "      <th>full_station_name</th>\n",
       "      <th>station_number</th>\n",
       "      <th>station_type</th>\n",
       "      <th>latitude</th>\n",
       "      <th>longitude</th>\n",
       "      <th>status</th>\n",
       "      <th>county_name</th>\n",
       "      <th>sample_code</th>\n",
       "      <th>sample_date</th>\n",
       "      <th>sample_depth</th>\n",
       "      <th>sample_depth_units</th>\n",
       "      <th>parameter</th>\n",
       "      <th>result</th>\n",
       "      <th>reporting_limit</th>\n",
       "      <th>units</th>\n",
       "      <th>method_name</th>\n",
       "    </tr>\n",
       "  </thead>\n",
       "  <tbody>\n",
       "    <tr>\n",
       "      <th>52</th>\n",
       "      <td>259</td>\n",
       "      <td>Del Valle COW</td>\n",
       "      <td>Del Valle Conserv. Outlet Works</td>\n",
       "      <td>DV000000</td>\n",
       "      <td>Surface Water</td>\n",
       "      <td>37.6183</td>\n",
       "      <td>121.7494</td>\n",
       "      <td>Review Status Unknown</td>\n",
       "      <td>Alameda</td>\n",
       "      <td>D0122B0070</td>\n",
       "      <td>2022-01-18</td>\n",
       "      <td>1.0</td>\n",
       "      <td>Meters</td>\n",
       "      <td>Dissolved Arsenic</td>\n",
       "      <td>2.520</td>\n",
       "      <td>1.000</td>\n",
       "      <td>ug/L</td>\n",
       "      <td>EPA 200.8 (D)</td>\n",
       "    </tr>\n",
       "    <tr>\n",
       "      <th>53</th>\n",
       "      <td>259</td>\n",
       "      <td>Del Valle COW</td>\n",
       "      <td>Del Valle Conserv. Outlet Works</td>\n",
       "      <td>DV000000</td>\n",
       "      <td>Surface Water</td>\n",
       "      <td>37.6183</td>\n",
       "      <td>121.7494</td>\n",
       "      <td>Review Status Unknown</td>\n",
       "      <td>Alameda</td>\n",
       "      <td>D0122B0070</td>\n",
       "      <td>2022-01-18</td>\n",
       "      <td>1.0</td>\n",
       "      <td>Meters</td>\n",
       "      <td>Total Arsenic</td>\n",
       "      <td>2.470</td>\n",
       "      <td>1.000</td>\n",
       "      <td>ug/L</td>\n",
       "      <td>EPA 200.8 (T)</td>\n",
       "    </tr>\n",
       "    <tr>\n",
       "      <th>54</th>\n",
       "      <td>259</td>\n",
       "      <td>Del Valle COW</td>\n",
       "      <td>Del Valle Conserv. Outlet Works</td>\n",
       "      <td>DV000000</td>\n",
       "      <td>Surface Water</td>\n",
       "      <td>37.6183</td>\n",
       "      <td>121.7494</td>\n",
       "      <td>Review Status Unknown</td>\n",
       "      <td>Alameda</td>\n",
       "      <td>D0116B0008</td>\n",
       "      <td>2016-01-19</td>\n",
       "      <td>1.0</td>\n",
       "      <td>Meters</td>\n",
       "      <td>Dissolved Arsenic</td>\n",
       "      <td>0.004</td>\n",
       "      <td>0.001</td>\n",
       "      <td>mg/L</td>\n",
       "      <td>EPA 200.8 (D)</td>\n",
       "    </tr>\n",
       "    <tr>\n",
       "      <th>55</th>\n",
       "      <td>259</td>\n",
       "      <td>Del Valle COW</td>\n",
       "      <td>Del Valle Conserv. Outlet Works</td>\n",
       "      <td>DV000000</td>\n",
       "      <td>Surface Water</td>\n",
       "      <td>37.6183</td>\n",
       "      <td>121.7494</td>\n",
       "      <td>Review Status Unknown</td>\n",
       "      <td>Alameda</td>\n",
       "      <td>D0116B0008</td>\n",
       "      <td>2016-01-19</td>\n",
       "      <td>1.0</td>\n",
       "      <td>Meters</td>\n",
       "      <td>Total Arsenic</td>\n",
       "      <td>0.004</td>\n",
       "      <td>0.001</td>\n",
       "      <td>mg/L</td>\n",
       "      <td>EPA 200.8 (T)</td>\n",
       "    </tr>\n",
       "    <tr>\n",
       "      <th>56</th>\n",
       "      <td>259</td>\n",
       "      <td>Del Valle COW</td>\n",
       "      <td>Del Valle Conserv. Outlet Works</td>\n",
       "      <td>DV000000</td>\n",
       "      <td>Surface Water</td>\n",
       "      <td>37.6183</td>\n",
       "      <td>121.7494</td>\n",
       "      <td>Review Status Unknown</td>\n",
       "      <td>Alameda</td>\n",
       "      <td>DA0212B3393</td>\n",
       "      <td>2012-02-13</td>\n",
       "      <td>1.0</td>\n",
       "      <td>Meters</td>\n",
       "      <td>Dissolved Arsenic</td>\n",
       "      <td>0.001</td>\n",
       "      <td>0.001</td>\n",
       "      <td>mg/L</td>\n",
       "      <td>EPA 200.8 (D)</td>\n",
       "    </tr>\n",
       "  </tbody>\n",
       "</table>\n",
       "</div>"
      ],
      "text/plain": [
       "    station_id   station_name                full_station_name station_number  \\\n",
       "52         259  Del Valle COW  Del Valle Conserv. Outlet Works       DV000000   \n",
       "53         259  Del Valle COW  Del Valle Conserv. Outlet Works       DV000000   \n",
       "54         259  Del Valle COW  Del Valle Conserv. Outlet Works       DV000000   \n",
       "55         259  Del Valle COW  Del Valle Conserv. Outlet Works       DV000000   \n",
       "56         259  Del Valle COW  Del Valle Conserv. Outlet Works       DV000000   \n",
       "\n",
       "     station_type  latitude  longitude                 status county_name  \\\n",
       "52  Surface Water   37.6183   121.7494  Review Status Unknown     Alameda   \n",
       "53  Surface Water   37.6183   121.7494  Review Status Unknown     Alameda   \n",
       "54  Surface Water   37.6183   121.7494  Review Status Unknown     Alameda   \n",
       "55  Surface Water   37.6183   121.7494  Review Status Unknown     Alameda   \n",
       "56  Surface Water   37.6183   121.7494  Review Status Unknown     Alameda   \n",
       "\n",
       "    sample_code sample_date  sample_depth sample_depth_units  \\\n",
       "52   D0122B0070  2022-01-18           1.0             Meters   \n",
       "53   D0122B0070  2022-01-18           1.0             Meters   \n",
       "54   D0116B0008  2016-01-19           1.0             Meters   \n",
       "55   D0116B0008  2016-01-19           1.0             Meters   \n",
       "56  DA0212B3393  2012-02-13           1.0             Meters   \n",
       "\n",
       "            parameter  result  reporting_limit units    method_name  \n",
       "52  Dissolved Arsenic   2.520            1.000  ug/L  EPA 200.8 (D)  \n",
       "53      Total Arsenic   2.470            1.000  ug/L  EPA 200.8 (T)  \n",
       "54  Dissolved Arsenic   0.004            0.001  mg/L  EPA 200.8 (D)  \n",
       "55      Total Arsenic   0.004            0.001  mg/L  EPA 200.8 (T)  \n",
       "56  Dissolved Arsenic   0.001            0.001  mg/L  EPA 200.8 (D)  "
      ]
     },
     "execution_count": 227,
     "metadata": {},
     "output_type": "execute_result"
    }
   ],
   "source": [
    "\n",
    "\n",
    "#convert sample date field to panda date format, print to check\n",
    "ar_data['sample_date'] = pd.to_datetime(ar_data['sample_date'])\n",
    "\n",
    "# Create DataFrame for 2012 to 2022\n",
    "ar_data_df = pd.DataFrame(ar_data)\n",
    "start_date = '2012-01-01'\n",
    "end_date = '2022-12-31'\n",
    "mask = (ar_data_df['sample_date'] > start_date) & (ar_data_df['sample_date'] <= end_date)\n",
    "  \n",
    "ar_data_df = ar_data_df.loc[mask]\n",
    "\n",
    "\n",
    "ar_data_df.head()"
   ]
  },
  {
   "cell_type": "code",
   "execution_count": 230,
   "metadata": {},
   "outputs": [
    {
     "name": "stdout",
     "output_type": "stream",
     "text": [
      "There were a total of 190512 Water Samples taken for Arsenic between 2012 and 2022\n"
     ]
    }
   ],
   "source": [
    "#count the number of samples for the period\n",
    "Total_Arsenic_Samples = ar_data_df.size\n",
    "\n",
    "print(f\"There were a total of {Total_Arsenic_Samples} Water Samples taken for Arsenic between 2012 and 2022\")"
   ]
  },
  {
   "cell_type": "markdown",
   "metadata": {},
   "source": [
    "# Ground Water vs. Surface Water Analysis"
   ]
  },
  {
   "cell_type": "code",
   "execution_count": 231,
   "metadata": {},
   "outputs": [],
   "source": [
    "#separate ground water from surface water temperatures\n",
    "\n",
    "#create a dataframe for Ground Water samples\n",
    "target_sample = ar_data_df[\"station_type\"] == \"Groundwater\"\n",
    "ground_df =ar_data_df.loc[target_sample]\n",
    "ground_avg =ground_df.groupby(\"sample_date\").mean()[\"result\"]\n",
    "ground_av_df = pd.DataFrame({\"Groundwater\": ground_avg})\n",
    "\n",
    "Total_Ground_Samples = ground_df.size\n",
    "\n",
    "#create a dataframe for Surface Water samples\n",
    "target_sample = ar_data_df[\"station_type\"] == \"Surface Water\"\n",
    "surface_df =ar_data_df.loc[target_sample]\n",
    "surface_avg =surface_df.groupby(\"sample_date\").mean()[\"result\"]\n",
    "surface_av_df = pd.DataFrame({\"Surface Water\": surface_avg})\n",
    "\n",
    "Total_Surface_Samples = surface_df.size\n",
    "\n",
    "\n"
   ]
  },
  {
   "cell_type": "code",
   "execution_count": 235,
   "metadata": {},
   "outputs": [
    {
     "name": "stdout",
     "output_type": "stream",
     "text": [
      "There were a total of 15516 Ground Samples and 173322 taken for Arsenic between 2012 and 2022\n"
     ]
    }
   ],
   "source": [
    "print(f\"There were a total of {Total_Ground_Samples} Ground Samples and {Total_Surface_Samples} taken for Arsenic between 2012 and 2022\")"
   ]
  },
  {
   "cell_type": "code",
   "execution_count": null,
   "metadata": {},
   "outputs": [],
   "source": [
    "\n"
   ]
  },
  {
   "cell_type": "code",
   "execution_count": 236,
   "metadata": {},
   "outputs": [
    {
     "name": "stdout",
     "output_type": "stream",
     "text": [
      "['Lassen' 'Tehama' 'Butte' 'Modoc' 'Glenn' 'Colusa' 'Trinity' 'Lake'\n",
      " 'Sutter' 'Siskiyou' 'Los Angeles' 'Yolo' 'San Bernardino' 'Shasta' 'Kern'\n",
      " 'Plumas' 'Alameda' 'Humboldt' 'Merced' 'Solano' 'Contra Costa' 'Kings']\n"
     ]
    }
   ],
   "source": [
    "#sort by the total amount of arsenic found (need to double check that all these values have been converted)\n",
    "sorted_recent_df = ar_data_df.sort_values(['result'], ascending=False)\n",
    "\n",
    "#create a new dataframe from 500 top offenders--this can be a variable\n",
    "top_offender_df = sorted_recent_df.head(1500)\n",
    "\n",
    "\n",
    "#Find out who they are\n",
    "total_dirty_counties = top_offender_df['county_name'].unique()\n",
    "print(total_dirty_counties)"
   ]
  },
  {
   "cell_type": "code",
   "execution_count": null,
   "metadata": {},
   "outputs": [],
   "source": []
  },
  {
   "cell_type": "code",
   "execution_count": 216,
   "metadata": {},
   "outputs": [
    {
     "data": {
      "text/plain": [
       "74286"
      ]
     },
     "execution_count": 216,
     "metadata": {},
     "output_type": "execute_result"
    }
   ],
   "source": [
    "#create a new dataframe of the county offenders and count how many samples there are\n",
    "\n",
    "county_df=sorted_recent_df.loc[(sorted_recent_df[\"county_name\"] == \"Kern\") |\n",
    "                              (sorted_recent_df[\"county_name\"] == \"Tehama\") |\n",
    "                              (sorted_recent_df[\"county_name\"] == \"Glen\") |\n",
    "                              (sorted_recent_df[\"county_name\"] == \"Shasta\") |\n",
    "                              (sorted_recent_df[\"county_name\"] == \"Modoc\") |\n",
    "                              (sorted_recent_df[\"county_name\"] == \"Los Angeles\") |\n",
    "                              (sorted_recent_df[\"county_name\"] == \"Alameda\") |\n",
    "                              (sorted_recent_df[\"county_name\"] == \"San Bernardino\")]\n",
    "\n",
    "county_df.size"
   ]
  },
  {
   "cell_type": "markdown",
   "metadata": {},
   "source": [
    "# County by County Analysis"
   ]
  },
  {
   "cell_type": "code",
   "execution_count": 226,
   "metadata": {},
   "outputs": [
    {
     "name": "stdout",
     "output_type": "stream",
     "text": [
      "There were a total of 45 Arsenic Samples taken for Modoc County between 2012 and in 2022\n"
     ]
    }
   ],
   "source": [
    "#create a dataframe for Modoc County\n",
    "Target_County = county_df[\"county_name\"] == \"Modoc\"\n",
    "Target_County_df =county_df.loc[Target_County]\n",
    "Target_County_avg =Target_County_df.groupby(\"sample_date\").mean()[\"result\"]\n",
    "Target_County_av_df = pd.DataFrame({\"Modoc\": Target_County_avg})\n",
    "#plt.plot(Target_County_av_df)\n",
    "Modoc_Total_Samples = Target_County_av_df.size\n",
    "\n",
    "print(f\"There were a total of {Modoc_Total_Samples} Arsenic Samples taken for Modoc County between 2012 and in 2022\")\n",
    "\n"
   ]
  },
  {
   "cell_type": "code",
   "execution_count": 224,
   "metadata": {},
   "outputs": [
    {
     "name": "stdout",
     "output_type": "stream",
     "text": [
      "There were a total of 97 Arsenic Samples taken for Tehama County between 2012 and in 2022\n"
     ]
    }
   ],
   "source": [
    "#create a dataframe for Tehama county\n",
    "Target_County = county_df[\"county_name\"] == \"Tehama\"\n",
    "Target_County_df =county_df.loc[Target_County]\n",
    "Target_County_avg =Target_County_df.groupby(\"sample_date\").mean()[\"result\"]\n",
    "Target_County_av_df = pd.DataFrame({\"Tehama\": Target_County_avg})\n",
    "Tehama_Total_Samples = Target_County_av_df.size\n",
    "\n",
    "print(f\"There were a total of {Tehama_Total_Samples} Arsenic Samples taken for Tehama County between 2012 and in 2022\")\n",
    "\n"
   ]
  },
  {
   "cell_type": "code",
   "execution_count": 223,
   "metadata": {},
   "outputs": [
    {
     "name": "stdout",
     "output_type": "stream",
     "text": [
      "There were a total of 8694 Arsenic Samples taken for San Bernardino County between 2012 and in 2022\n"
     ]
    }
   ],
   "source": [
    "#plot San Bernadino county\n",
    "Target_County = county_df[\"county_name\"] == \"San Bernardino\"\n",
    "Target_County_df =county_df.loc[Target_County]\n",
    "Target_County_avg =Target_County_df.groupby(\"sample_date\").mean()[\"result\"]\n",
    "Target_County_av_df = pd.DataFrame({\"San Bernardino\": Target_County_avg})\n",
    "SanBern_Total_Samples = Target_County_df.size\n",
    "\n",
    "print(f\"There were a total of {SanBern_Total_Samples} Arsenic Samples taken for San Bernardino County between 2012 and in 2022\")\n"
   ]
  },
  {
   "cell_type": "code",
   "execution_count": 220,
   "metadata": {},
   "outputs": [
    {
     "name": "stdout",
     "output_type": "stream",
     "text": [
      "There were a total of 11970 Samples for Kern County from 2012 to 2022\n"
     ]
    }
   ],
   "source": [
    "#plot Kern county\n",
    "Kern_df = county_df.loc[county_df[\"county_name\"] == \"Kern\"]\n",
    "Kern_avg = Kern_df.groupby(\"sample_date\").mean()[\"result\"]\n",
    "Kern_av_df = pd.DataFrame({\"Kern\": Kern_avg})\n",
    "Kern_Total_Samples = Kern_df.size\n",
    "\n",
    "print(f\"There were a total of {Kern_Total_Samples} Samples for Kern County from 2012 to 2022\")\n"
   ]
  },
  {
   "cell_type": "code",
   "execution_count": 221,
   "metadata": {},
   "outputs": [
    {
     "data": {
      "text/plain": [
       "10548"
      ]
     },
     "execution_count": 221,
     "metadata": {},
     "output_type": "execute_result"
    }
   ],
   "source": [
    "#plot Alameda county\n",
    "Target_County = county_df[\"county_name\"] == \"Alameda\"\n",
    "Target_County_df =county_df.loc[Target_County]\n",
    "Target_County_avg =Target_County_df.groupby(\"sample_date\").mean()[\"result\"]\n",
    "Target_County_av_df = pd.DataFrame({\"Alameda\": Target_County_avg})\n",
    "\n",
    "Target_County_df.size"
   ]
  },
  {
   "cell_type": "code",
   "execution_count": 222,
   "metadata": {},
   "outputs": [
    {
     "data": {
      "text/plain": [
       "['Sacramento',\n",
       " 'Kern',\n",
       " 'Butte',\n",
       " 'Lassen',\n",
       " 'Shasta',\n",
       " 'Tehama',\n",
       " 'Modoc',\n",
       " 'Glenn',\n",
       " 'Colusa',\n",
       " 'Alpine',\n",
       " 'Humboldt',\n",
       " 'Mendocino',\n",
       " 'Lake',\n",
       " 'Trinity',\n",
       " 'Siskiyou',\n",
       " 'Sutter',\n",
       " 'Plumas',\n",
       " 'Mono',\n",
       " 'Los Angeles',\n",
       " 'Yolo',\n",
       " 'San Bernardino',\n",
       " 'Sierra',\n",
       " 'Alameda',\n",
       " 'Merced',\n",
       " 'Solano',\n",
       " 'Contra Costa',\n",
       " 'Kings',\n",
       " 'Del Norte',\n",
       " 'Riverside',\n",
       " 'San Joaquin',\n",
       " 'Yuba',\n",
       " 'Tulare',\n",
       " 'Inyo',\n",
       " 'Imperial',\n",
       " 'El Dorado',\n",
       " 'Santa Cruz',\n",
       " 'Napa',\n",
       " 'Monterey',\n",
       " 'Fresno',\n",
       " 'San Diego',\n",
       " 'Calaveras',\n",
       " 'Amador',\n",
       " 'Sonoma',\n",
       " 'Santa Clara',\n",
       " 'Tuolumne',\n",
       " 'Placer',\n",
       " 'Ventura',\n",
       " 'San Luis Obispo',\n",
       " 'Santa Barbara',\n",
       " 'Nevada',\n",
       " 'Orange',\n",
       " 'Stanislaus',\n",
       " 'Madera',\n",
       " 'San Mateo',\n",
       " 'San Francisco',\n",
       " 'San Benito',\n",
       " 'Mariposa']"
      ]
     },
     "execution_count": 222,
     "metadata": {},
     "output_type": "execute_result"
    }
   ],
   "source": [
    "#create a list of all counties\n",
    "countys =[]\n",
    "countys = ['Sacramento', 'Kern', 'Butte', 'Lassen', 'Shasta', 'Tehama', 'Modoc', 'Glenn',\n",
    " 'Colusa', 'Alpine', 'Humboldt', 'Mendocino','Lake','Trinity', 'Siskiyou',\n",
    " 'Sutter', 'Plumas', 'Mono', 'Los Angeles', 'Yolo', 'San Bernardino', 'Sierra',\n",
    " 'Alameda', 'Merced', 'Solano' ,'Contra Costa', 'Kings', 'Del Norte',\n",
    " 'Riverside', 'San Joaquin', 'Yuba', 'Tulare', 'Inyo', 'Imperial', 'El Dorado',\n",
    " 'Santa Cruz', 'Napa', 'Monterey', 'Fresno', 'San Diego', 'Calaveras', 'Amador',\n",
    " 'Sonoma', 'Santa Clara', 'Tuolumne', 'Placer', 'Ventura', 'San Luis Obispo',\n",
    " 'Santa Barbara', 'Nevada', 'Orange', 'Stanislaus', 'Madera', 'San Mateo',\n",
    " 'San Francisco', 'San Benito', 'Mariposa']\n",
    "#print the counties as a list\n",
    "\n",
    "countys\n",
    "\n",
    "    \n"
   ]
  },
  {
   "cell_type": "code",
   "execution_count": 20,
   "metadata": {},
   "outputs": [
    {
     "data": {
      "text/plain": [
       "array(['Tehama', 'Glenn', 'Los Angeles', 'San Bernardino', 'Kern',\n",
       "       'Shasta', 'Modoc', 'Alameda'], dtype=object)"
      ]
     },
     "execution_count": 20,
     "metadata": {},
     "output_type": "execute_result"
    }
   ],
   "source": [
    "#Create a list of Dirty Counties\n",
    "#create a list of all counties\n",
    "dirty_countys = []\n",
    "dirty_countys = total_dirty_counties\n",
    "\n",
    "dirty_countys\n"
   ]
  },
  {
   "cell_type": "code",
   "execution_count": 23,
   "metadata": {},
   "outputs": [
    {
     "data": {
      "text/plain": [
       "8"
      ]
     },
     "execution_count": 23,
     "metadata": {},
     "output_type": "execute_result"
    }
   ],
   "source": [
    "dirty_countys.size\n",
    "\n"
   ]
  },
  {
   "cell_type": "code",
   "execution_count": 237,
   "metadata": {},
   "outputs": [
    {
     "data": {
      "text/plain": [
       "<function matplotlib.pyplot.show(close=None, block=None)>"
      ]
     },
     "execution_count": 237,
     "metadata": {},
     "output_type": "execute_result"
    },
    {
     "data": {
      "image/png": "[encoded data removed]",
      "text/plain": [
       "<Figure size 432x288 with 1 Axes>"
      ]
     },
     "metadata": {
      "needs_background": "light"
     },
     "output_type": "display_data"
    }
   ],
   "source": [
    "plt.title = ('sample chart')\n",
    "y1 = [1, 2]\n",
    "x1 = [1, 3]\n",
    "\n",
    "y2 = [0.5, 0.7, 0.6, 0.9]\n",
    "x2 = [0.7, 1.3, 2.7, 3.3]\n",
    "\n",
    "plt.bar(x1, y1, width=1.5)\n",
    "plt.bar(x2, y2, width=0.5)\n",
    "\n",
    "plt.show\n"
   ]
  },
  {
   "cell_type": "code",
   "execution_count": 73,
   "metadata": {},
   "outputs": [],
   "source": [
    "\n"
   ]
  },
  {
   "cell_type": "code",
   "execution_count": null,
   "metadata": {},
   "outputs": [],
   "source": []
  },
  {
   "cell_type": "code",
   "execution_count": null,
   "metadata": {
    "scrolled": true
   },
   "outputs": [],
   "source": [
    "\n"
   ]
  },
  {
   "cell_type": "code",
   "execution_count": null,
   "metadata": {},
   "outputs": [],
   "source": []
  },
  {
   "cell_type": "code",
   "execution_count": null,
   "metadata": {},
   "outputs": [],
   "source": []
  },
  {
   "cell_type": "code",
   "execution_count": null,
   "metadata": {},
   "outputs": [],
   "source": []
  },
  {
   "cell_type": "code",
   "execution_count": null,
   "metadata": {},
   "outputs": [],
   "source": []
  },
  {
   "cell_type": "code",
   "execution_count": null,
   "metadata": {
    "scrolled": true
   },
   "outputs": [],
   "source": [
    "\n"
   ]
  },
  {
   "cell_type": "code",
   "execution_count": null,
   "metadata": {},
   "outputs": [],
   "source": []
  },
  {
   "cell_type": "code",
   "execution_count": null,
   "metadata": {},
   "outputs": [],
   "source": []
  },
  {
   "cell_type": "code",
   "execution_count": null,
   "metadata": {},
   "outputs": [],
   "source": []
  },
  {
   "cell_type": "code",
   "execution_count": null,
   "metadata": {},
   "outputs": [],
   "source": []
  }
 ],
 "metadata": {
  "anaconda-cloud": {},
  "kernelspec": {
   "display_name": "Python 3 (ipykernel)",
   "language": "python",
   "name": "python3"
  },
  "language_info": {
   "codemirror_mode": {
    "name": "ipython",
    "version": 3
   },
   "file_extension": ".py",
   "mimetype": "text/x-python",
   "name": "python",
   "nbconvert_exporter": "python",
   "pygments_lexer": "ipython3",
   "version": "3.9.12"
  }
 },
 "nbformat": 4,
 "nbformat_minor": 4
}
