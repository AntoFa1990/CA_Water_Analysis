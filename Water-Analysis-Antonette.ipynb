{
 "cells": [
  {
   "cell_type": "markdown",
   "metadata": {},
   "source": [
    "# Water test\n",
    "--"
   ]
  },
  {
   "cell_type": "code",
   "execution_count": 367,
   "metadata": {},
   "outputs": [],
   "source": [
    "import matplotlib.pyplot as plt\n",
    "import pandas as pd\n",
    "import numpy as np\n",
    "import requests\n",
    "import json\n",
    "import urllib.request\n",
    "\n",
    "import time\n",
    "from scipy.stats import linregress"
   ]
  },
  {
   "cell_type": "code",
   "execution_count": 406,
   "metadata": {
    "scrolled": false
   },
   "outputs": [],
   "source": [
    "#import datafile from CSV sample file and name as a variable\n",
    "ar_data_import = \"../CA_Water_Analysis/Ar-Water-Lab-Data.csv\"\n",
    "ar_data = pd.read_csv(ar_data_import)\n"
   ]
  },
  {
   "cell_type": "code",
   "execution_count": 407,
   "metadata": {},
   "outputs": [],
   "source": [
    "#remove time code from date field\n",
    "for idx, row in ar_data.iterrows(): \n",
    "    year=row['sample_date'].split(' ')[0].split('/')[-1]\n",
    "    date=row['sample_date'].split(' ')[0]\n",
    "    time=row['sample_date'].split(' ')[-1]\n",
    "    new_date=date.split('/')[:-1]\n",
    "    new_date=new_date+[f'{year}']\n",
    "    new_date_str='/'.join(new_date)\n",
    "    \n",
    "    ar_data.loc[idx, 'sample_date']=new_date_str\n"
   ]
  },
  {
   "cell_type": "code",
   "execution_count": 408,
   "metadata": {},
   "outputs": [
    {
     "data": {
      "text/html": [
       "<div>\n",
       "<style scoped>\n",
       "    .dataframe tbody tr th:only-of-type {\n",
       "        vertical-align: middle;\n",
       "    }\n",
       "\n",
       "    .dataframe tbody tr th {\n",
       "        vertical-align: top;\n",
       "    }\n",
       "\n",
       "    .dataframe thead th {\n",
       "        text-align: right;\n",
       "    }\n",
       "</style>\n",
       "<table border=\"1\" class=\"dataframe\">\n",
       "  <thead>\n",
       "    <tr style=\"text-align: right;\">\n",
       "      <th></th>\n",
       "      <th>station_id</th>\n",
       "      <th>station_name</th>\n",
       "      <th>full_station_name</th>\n",
       "      <th>station_number</th>\n",
       "      <th>station_type</th>\n",
       "      <th>latitude</th>\n",
       "      <th>longitude</th>\n",
       "      <th>status</th>\n",
       "      <th>county_name</th>\n",
       "      <th>sample_code</th>\n",
       "      <th>sample_date</th>\n",
       "      <th>sample_depth</th>\n",
       "      <th>sample_depth_units</th>\n",
       "      <th>parameter</th>\n",
       "      <th>result</th>\n",
       "      <th>reporting_limit</th>\n",
       "      <th>units</th>\n",
       "      <th>method_name</th>\n",
       "    </tr>\n",
       "  </thead>\n",
       "  <tbody>\n",
       "    <tr>\n",
       "      <th>0</th>\n",
       "      <td>13460</td>\n",
       "      <td>03S01E11H001M</td>\n",
       "      <td>03S01E11H001M</td>\n",
       "      <td>03S01E11H001M</td>\n",
       "      <td>Groundwater</td>\n",
       "      <td>37.6881</td>\n",
       "      <td>121.8270</td>\n",
       "      <td>Review Status Unknown</td>\n",
       "      <td>Alameda</td>\n",
       "      <td>WDIS_0309039</td>\n",
       "      <td>1975-07-11</td>\n",
       "      <td>NaN</td>\n",
       "      <td>Feet</td>\n",
       "      <td>Total Arsenic</td>\n",
       "      <td>0.0</td>\n",
       "      <td>0.001</td>\n",
       "      <td>mg/L</td>\n",
       "      <td>Std Method 3500-As, C</td>\n",
       "    </tr>\n",
       "    <tr>\n",
       "      <th>1</th>\n",
       "      <td>13494</td>\n",
       "      <td>03S02E07P003M</td>\n",
       "      <td>03S02E07P003M</td>\n",
       "      <td>03S02E07P003M</td>\n",
       "      <td>Groundwater</td>\n",
       "      <td>37.6809</td>\n",
       "      <td>121.7996</td>\n",
       "      <td>Review Status Unknown</td>\n",
       "      <td>Alameda</td>\n",
       "      <td>WDIS_0003482</td>\n",
       "      <td>1975-02-12</td>\n",
       "      <td>NaN</td>\n",
       "      <td>Feet</td>\n",
       "      <td>Total Arsenic</td>\n",
       "      <td>0.0</td>\n",
       "      <td>0.001</td>\n",
       "      <td>mg/L</td>\n",
       "      <td>UnkMod Arsenic</td>\n",
       "    </tr>\n",
       "    <tr>\n",
       "      <th>2</th>\n",
       "      <td>13494</td>\n",
       "      <td>03S02E07P003M</td>\n",
       "      <td>03S02E07P003M</td>\n",
       "      <td>03S02E07P003M</td>\n",
       "      <td>Groundwater</td>\n",
       "      <td>37.6809</td>\n",
       "      <td>121.7996</td>\n",
       "      <td>Review Status Unknown</td>\n",
       "      <td>Alameda</td>\n",
       "      <td>WDIS_0003485</td>\n",
       "      <td>1980-03-05</td>\n",
       "      <td>NaN</td>\n",
       "      <td>Feet</td>\n",
       "      <td>Total Arsenic</td>\n",
       "      <td>0.0</td>\n",
       "      <td>0.001</td>\n",
       "      <td>mg/L</td>\n",
       "      <td>UnkMod Arsenic</td>\n",
       "    </tr>\n",
       "    <tr>\n",
       "      <th>3</th>\n",
       "      <td>13494</td>\n",
       "      <td>03S02E07P003M</td>\n",
       "      <td>03S02E07P003M</td>\n",
       "      <td>03S02E07P003M</td>\n",
       "      <td>Groundwater</td>\n",
       "      <td>37.6809</td>\n",
       "      <td>121.7996</td>\n",
       "      <td>Review Status Unknown</td>\n",
       "      <td>Alameda</td>\n",
       "      <td>WDIS_0309048</td>\n",
       "      <td>1986-04-22</td>\n",
       "      <td>NaN</td>\n",
       "      <td>Feet</td>\n",
       "      <td>Total Arsenic</td>\n",
       "      <td>0.0</td>\n",
       "      <td>0.001</td>\n",
       "      <td>mg/L</td>\n",
       "      <td>UnkMod Arsenic</td>\n",
       "    </tr>\n",
       "    <tr>\n",
       "      <th>4</th>\n",
       "      <td>13494</td>\n",
       "      <td>03S02E07P003M</td>\n",
       "      <td>03S02E07P003M</td>\n",
       "      <td>03S02E07P003M</td>\n",
       "      <td>Groundwater</td>\n",
       "      <td>37.6809</td>\n",
       "      <td>121.7996</td>\n",
       "      <td>Review Status Unknown</td>\n",
       "      <td>Alameda</td>\n",
       "      <td>WDIS_0309041</td>\n",
       "      <td>1974-05-06</td>\n",
       "      <td>NaN</td>\n",
       "      <td>Feet</td>\n",
       "      <td>Total Arsenic</td>\n",
       "      <td>0.0</td>\n",
       "      <td>0.001</td>\n",
       "      <td>mg/L</td>\n",
       "      <td>UnkMod Arsenic</td>\n",
       "    </tr>\n",
       "  </tbody>\n",
       "</table>\n",
       "</div>"
      ],
      "text/plain": [
       "   station_id   station_name full_station_name station_number station_type  \\\n",
       "0       13460  03S01E11H001M     03S01E11H001M  03S01E11H001M  Groundwater   \n",
       "1       13494  03S02E07P003M     03S02E07P003M  03S02E07P003M  Groundwater   \n",
       "2       13494  03S02E07P003M     03S02E07P003M  03S02E07P003M  Groundwater   \n",
       "3       13494  03S02E07P003M     03S02E07P003M  03S02E07P003M  Groundwater   \n",
       "4       13494  03S02E07P003M     03S02E07P003M  03S02E07P003M  Groundwater   \n",
       "\n",
       "   latitude  longitude                 status county_name   sample_code  \\\n",
       "0   37.6881   121.8270  Review Status Unknown     Alameda  WDIS_0309039   \n",
       "1   37.6809   121.7996  Review Status Unknown     Alameda  WDIS_0003482   \n",
       "2   37.6809   121.7996  Review Status Unknown     Alameda  WDIS_0003485   \n",
       "3   37.6809   121.7996  Review Status Unknown     Alameda  WDIS_0309048   \n",
       "4   37.6809   121.7996  Review Status Unknown     Alameda  WDIS_0309041   \n",
       "\n",
       "  sample_date  sample_depth sample_depth_units      parameter  result  \\\n",
       "0  1975-07-11           NaN               Feet  Total Arsenic     0.0   \n",
       "1  1975-02-12           NaN               Feet  Total Arsenic     0.0   \n",
       "2  1980-03-05           NaN               Feet  Total Arsenic     0.0   \n",
       "3  1986-04-22           NaN               Feet  Total Arsenic     0.0   \n",
       "4  1974-05-06           NaN               Feet  Total Arsenic     0.0   \n",
       "\n",
       "   reporting_limit units            method_name  \n",
       "0            0.001  mg/L  Std Method 3500-As, C  \n",
       "1            0.001  mg/L         UnkMod Arsenic  \n",
       "2            0.001  mg/L         UnkMod Arsenic  \n",
       "3            0.001  mg/L         UnkMod Arsenic  \n",
       "4            0.001  mg/L         UnkMod Arsenic  "
      ]
     },
     "execution_count": 408,
     "metadata": {},
     "output_type": "execute_result"
    }
   ],
   "source": [
    "#convert sample date field to date format\n",
    "ar_data['sample_date'] = pd.to_datetime(ar_data['sample_date'])\n",
    "\n",
    "ar_data.head()"
   ]
  },
  {
   "cell_type": "code",
   "execution_count": 410,
   "metadata": {},
   "outputs": [
    {
     "name": "stderr",
     "output_type": "stream",
     "text": [
      "/var/folders/xh/73c8v4_51k18xmmhwbkwgx9m0000gn/T/ipykernel_50036/221210887.py:5: FutureWarning: Value based partial slicing on non-monotonic DatetimeIndexes with non-existing keys is deprecated and will raise a KeyError in a future Version.\n",
      "  selected_rows = (ar_data['2022-01-01':'2022-12-31'])\n"
     ]
    },
    {
     "data": {
      "text/html": [
       "<div>\n",
       "<style scoped>\n",
       "    .dataframe tbody tr th:only-of-type {\n",
       "        vertical-align: middle;\n",
       "    }\n",
       "\n",
       "    .dataframe tbody tr th {\n",
       "        vertical-align: top;\n",
       "    }\n",
       "\n",
       "    .dataframe thead th {\n",
       "        text-align: right;\n",
       "    }\n",
       "</style>\n",
       "<table border=\"1\" class=\"dataframe\">\n",
       "  <thead>\n",
       "    <tr style=\"text-align: right;\">\n",
       "      <th></th>\n",
       "      <th>station_id</th>\n",
       "      <th>station_name</th>\n",
       "      <th>full_station_name</th>\n",
       "      <th>station_number</th>\n",
       "      <th>station_type</th>\n",
       "      <th>latitude</th>\n",
       "      <th>longitude</th>\n",
       "      <th>status</th>\n",
       "      <th>county_name</th>\n",
       "      <th>sample_code</th>\n",
       "      <th>sample_depth</th>\n",
       "      <th>sample_depth_units</th>\n",
       "      <th>parameter</th>\n",
       "      <th>result</th>\n",
       "      <th>reporting_limit</th>\n",
       "      <th>units</th>\n",
       "      <th>method_name</th>\n",
       "    </tr>\n",
       "    <tr>\n",
       "      <th>sample_date</th>\n",
       "      <th></th>\n",
       "      <th></th>\n",
       "      <th></th>\n",
       "      <th></th>\n",
       "      <th></th>\n",
       "      <th></th>\n",
       "      <th></th>\n",
       "      <th></th>\n",
       "      <th></th>\n",
       "      <th></th>\n",
       "      <th></th>\n",
       "      <th></th>\n",
       "      <th></th>\n",
       "      <th></th>\n",
       "      <th></th>\n",
       "      <th></th>\n",
       "      <th></th>\n",
       "    </tr>\n",
       "  </thead>\n",
       "  <tbody>\n",
       "    <tr>\n",
       "      <th>2022-01-18</th>\n",
       "      <td>259</td>\n",
       "      <td>Del Valle COW</td>\n",
       "      <td>Del Valle Conserv. Outlet Works</td>\n",
       "      <td>DV000000</td>\n",
       "      <td>Surface Water</td>\n",
       "      <td>37.6183</td>\n",
       "      <td>121.7494</td>\n",
       "      <td>Review Status Unknown</td>\n",
       "      <td>Alameda</td>\n",
       "      <td>D0122B0070</td>\n",
       "      <td>1.0</td>\n",
       "      <td>Meters</td>\n",
       "      <td>Dissolved Arsenic</td>\n",
       "      <td>2.52</td>\n",
       "      <td>1.0</td>\n",
       "      <td>ug/L</td>\n",
       "      <td>EPA 200.8 (D)</td>\n",
       "    </tr>\n",
       "    <tr>\n",
       "      <th>2022-01-18</th>\n",
       "      <td>259</td>\n",
       "      <td>Del Valle COW</td>\n",
       "      <td>Del Valle Conserv. Outlet Works</td>\n",
       "      <td>DV000000</td>\n",
       "      <td>Surface Water</td>\n",
       "      <td>37.6183</td>\n",
       "      <td>121.7494</td>\n",
       "      <td>Review Status Unknown</td>\n",
       "      <td>Alameda</td>\n",
       "      <td>D0122B0070</td>\n",
       "      <td>1.0</td>\n",
       "      <td>Meters</td>\n",
       "      <td>Total Arsenic</td>\n",
       "      <td>2.47</td>\n",
       "      <td>1.0</td>\n",
       "      <td>ug/L</td>\n",
       "      <td>EPA 200.8 (T)</td>\n",
       "    </tr>\n",
       "    <tr>\n",
       "      <th>2022-08-22</th>\n",
       "      <td>259</td>\n",
       "      <td>Del Valle COW</td>\n",
       "      <td>Del Valle Conserv. Outlet Works</td>\n",
       "      <td>DV000000</td>\n",
       "      <td>Surface Water</td>\n",
       "      <td>37.6183</td>\n",
       "      <td>121.7494</td>\n",
       "      <td>Review Status Unknown</td>\n",
       "      <td>Alameda</td>\n",
       "      <td>D0822B0135</td>\n",
       "      <td>1.0</td>\n",
       "      <td>Meters</td>\n",
       "      <td>Dissolved Arsenic</td>\n",
       "      <td>2.35</td>\n",
       "      <td>1.0</td>\n",
       "      <td>ug/L</td>\n",
       "      <td>EPA 200.8 (D)</td>\n",
       "    </tr>\n",
       "    <tr>\n",
       "      <th>2022-08-22</th>\n",
       "      <td>259</td>\n",
       "      <td>Del Valle COW</td>\n",
       "      <td>Del Valle Conserv. Outlet Works</td>\n",
       "      <td>DV000000</td>\n",
       "      <td>Surface Water</td>\n",
       "      <td>37.6183</td>\n",
       "      <td>121.7494</td>\n",
       "      <td>Review Status Unknown</td>\n",
       "      <td>Alameda</td>\n",
       "      <td>D0822B0135</td>\n",
       "      <td>1.0</td>\n",
       "      <td>Meters</td>\n",
       "      <td>Total Arsenic</td>\n",
       "      <td>2.39</td>\n",
       "      <td>1.0</td>\n",
       "      <td>ug/L</td>\n",
       "      <td>EPA 200.8 (T)</td>\n",
       "    </tr>\n",
       "    <tr>\n",
       "      <th>2022-09-19</th>\n",
       "      <td>259</td>\n",
       "      <td>Del Valle COW</td>\n",
       "      <td>Del Valle Conserv. Outlet Works</td>\n",
       "      <td>DV000000</td>\n",
       "      <td>Surface Water</td>\n",
       "      <td>37.6183</td>\n",
       "      <td>121.7494</td>\n",
       "      <td>Review Status Unknown</td>\n",
       "      <td>Alameda</td>\n",
       "      <td>D0922B0176</td>\n",
       "      <td>1.0</td>\n",
       "      <td>Meters</td>\n",
       "      <td>Dissolved Arsenic</td>\n",
       "      <td>2.37</td>\n",
       "      <td>1.0</td>\n",
       "      <td>ug/L</td>\n",
       "      <td>EPA 200.8 (D)</td>\n",
       "    </tr>\n",
       "  </tbody>\n",
       "</table>\n",
       "</div>"
      ],
      "text/plain": [
       "             station_id   station_name                full_station_name  \\\n",
       "sample_date                                                               \n",
       "2022-01-18          259  Del Valle COW  Del Valle Conserv. Outlet Works   \n",
       "2022-01-18          259  Del Valle COW  Del Valle Conserv. Outlet Works   \n",
       "2022-08-22          259  Del Valle COW  Del Valle Conserv. Outlet Works   \n",
       "2022-08-22          259  Del Valle COW  Del Valle Conserv. Outlet Works   \n",
       "2022-09-19          259  Del Valle COW  Del Valle Conserv. Outlet Works   \n",
       "\n",
       "            station_number   station_type  latitude  longitude  \\\n",
       "sample_date                                                      \n",
       "2022-01-18        DV000000  Surface Water   37.6183   121.7494   \n",
       "2022-01-18        DV000000  Surface Water   37.6183   121.7494   \n",
       "2022-08-22        DV000000  Surface Water   37.6183   121.7494   \n",
       "2022-08-22        DV000000  Surface Water   37.6183   121.7494   \n",
       "2022-09-19        DV000000  Surface Water   37.6183   121.7494   \n",
       "\n",
       "                            status county_name sample_code  sample_depth  \\\n",
       "sample_date                                                                \n",
       "2022-01-18   Review Status Unknown     Alameda  D0122B0070           1.0   \n",
       "2022-01-18   Review Status Unknown     Alameda  D0122B0070           1.0   \n",
       "2022-08-22   Review Status Unknown     Alameda  D0822B0135           1.0   \n",
       "2022-08-22   Review Status Unknown     Alameda  D0822B0135           1.0   \n",
       "2022-09-19   Review Status Unknown     Alameda  D0922B0176           1.0   \n",
       "\n",
       "            sample_depth_units          parameter  result  reporting_limit  \\\n",
       "sample_date                                                                  \n",
       "2022-01-18              Meters  Dissolved Arsenic    2.52              1.0   \n",
       "2022-01-18              Meters      Total Arsenic    2.47              1.0   \n",
       "2022-08-22              Meters  Dissolved Arsenic    2.35              1.0   \n",
       "2022-08-22              Meters      Total Arsenic    2.39              1.0   \n",
       "2022-09-19              Meters  Dissolved Arsenic    2.37              1.0   \n",
       "\n",
       "            units    method_name  \n",
       "sample_date                       \n",
       "2022-01-18   ug/L  EPA 200.8 (D)  \n",
       "2022-01-18   ug/L  EPA 200.8 (T)  \n",
       "2022-08-22   ug/L  EPA 200.8 (D)  \n",
       "2022-08-22   ug/L  EPA 200.8 (T)  \n",
       "2022-09-19   ug/L  EPA 200.8 (D)  "
      ]
     },
     "execution_count": 410,
     "metadata": {},
     "output_type": "execute_result"
    }
   ],
   "source": [
    "\n",
    "\n",
    "# Set the 'date' column as the index\n",
    "ar_data.set_index('sample_date', inplace=True)\n",
    "\n",
    "# Select all rows where the date is between '2022-01-02' and '2022-01-03'\n",
    "selected_rows = (ar_data['2022-01-01':'2022-12-31'])\n",
    "\n",
    "Recent_df = pd.DataFrame(selected_rows)\n",
    "\n",
    "Recent_df.head()"
   ]
  },
  {
   "cell_type": "code",
   "execution_count": 429,
   "metadata": {},
   "outputs": [
    {
     "name": "stdout",
     "output_type": "stream",
     "text": [
      "['Tehama' 'Glenn' 'Los Angeles' 'San Bernardino' 'Kern' 'Shasta' 'Modoc'\n",
      " 'Alameda']\n"
     ]
    }
   ],
   "source": [
    "#sort by the total amount of arsenic found \n",
    "sorted_recent_df = Recent_df.sort_values(['result'], ascending=False)\n",
    "\n",
    "#create a new dataframe from 2500 top offenders\n",
    "top_offender_df = sorted_recent_df.head(50)\n",
    "\n",
    "\n",
    "#who are they?\n",
    "\n",
    "total_counties = top_offender_df['county_name'].unique()\n",
    "print(total_counties)"
   ]
  },
  {
   "cell_type": "code",
   "execution_count": 435,
   "metadata": {},
   "outputs": [
    {
     "data": {
      "text/plain": [
       "782"
      ]
     },
     "execution_count": 435,
     "metadata": {},
     "output_type": "execute_result"
    }
   ],
   "source": [
    "#create a new dataframe of the county offenders\n",
    "\n",
    "county_df=top_offender_df.loc[(top_offender_df[\"county_name\"] == \"Kern\") |\n",
    "                              (top_offender_df[\"county_name\"] == \"Tehama\") |\n",
    "                              (top_offender_df[\"county_name\"] == \"Glen\") |\n",
    "                              (top_offender_df[\"county_name\"] == \"Shasta\") |\n",
    "                              (top_offender_df[\"county_name\"] == \"Modoc\") |\n",
    "                              (top_offender_df[\"county_name\"] == \"Los Angeles\") |\n",
    "                              (top_offender_df[\"county_name\"] == \"Alameda\") |\n",
    "                              (top_offender_df[\"county_name\"] == \"San Bernardino\")]\n",
    "\n",
    "county_df.size"
   ]
  },
  {
   "cell_type": "code",
   "execution_count": 443,
   "metadata": {},
   "outputs": [
    {
     "data": {
      "text/plain": [
       "[<matplotlib.lines.Line2D at 0x7fce3e664160>]"
      ]
     },
     "execution_count": 443,
     "metadata": {},
     "output_type": "execute_result"
    },
    {
     "data": {
      "image/png": "[encoded data removed]",
      "text/plain": [
       "<Figure size 432x288 with 1 Axes>"
      ]
     },
     "metadata": {
      "needs_background": "light"
     },
     "output_type": "display_data"
    }
   ],
   "source": [
    "#create template county plot using Kern\n",
    "\n",
    "Target_County = county_df[\"county_name\"] == \"Kern\"\n",
    "Target_County_df =county_df.loc[Target_County]\n",
    "Target_County_avg =Target_County_df.groupby(\"sample_date\").mean()[\"result\"]\n",
    "Target_County_av_df = pd.DataFrame({\"Kern\": Target_County_avg})\n",
    "plt.plot(Target_County_av_df)\n",
    "\n"
   ]
  },
  {
   "cell_type": "code",
   "execution_count": 448,
   "metadata": {},
   "outputs": [
    {
     "data": {
      "text/plain": [
       "[<matplotlib.lines.Line2D at 0x7fce33783b50>]"
      ]
     },
     "execution_count": 448,
     "metadata": {},
     "output_type": "execute_result"
    },
    {
     "data": {
      "image/png": "[encoded data removed]",
      "text/plain": [
       "<Figure size 432x288 with 1 Axes>"
      ]
     },
     "metadata": {
      "needs_background": "light"
     },
     "output_type": "display_data"
    }
   ],
   "source": [
    "Target_County = county_df[\"county_name\"] == \"Modoc\"\n",
    "Target_County_df =county_df.loc[Target_County]\n",
    "Target_County_avg =Target_County_df.groupby(\"sample_date\").mean()[\"result\"]\n",
    "Target_County_av_df = pd.DataFrame({\"Modoc\": Target_County_avg})\n",
    "plt.plot(Target_County_av_df)"
   ]
  },
  {
   "cell_type": "code",
   "execution_count": 451,
   "metadata": {},
   "outputs": [
    {
     "data": {
      "text/plain": [
       "[<matplotlib.lines.Line2D at 0x7fce3e8c0d60>]"
      ]
     },
     "execution_count": 451,
     "metadata": {},
     "output_type": "execute_result"
    },
    {
     "data": {
      "image/png": "[encoded data removed]",
      "text/plain": [
       "<Figure size 432x288 with 1 Axes>"
      ]
     },
     "metadata": {
      "needs_background": "light"
     },
     "output_type": "display_data"
    }
   ],
   "source": [
    "#plot Tehama county\n",
    "Target_County = county_df[\"county_name\"] == \"Tehama\"\n",
    "Target_County_df =county_df.loc[Target_County]\n",
    "Target_County_avg =Target_County_df.groupby(\"sample_date\").mean()[\"result\"]\n",
    "Target_County_av_df = pd.DataFrame({\"Tehama\": Target_County_avg})\n",
    "plt.plot(Target_County_av_df)"
   ]
  },
  {
   "cell_type": "code",
   "execution_count": 452,
   "metadata": {},
   "outputs": [
    {
     "data": {
      "text/plain": [
       "[<matplotlib.lines.Line2D at 0x7fce3715af40>]"
      ]
     },
     "execution_count": 452,
     "metadata": {},
     "output_type": "execute_result"
    },
    {
     "data": {
      "image/png": "[encoded data removed]",
      "text/plain": [
       "<Figure size 432x288 with 1 Axes>"
      ]
     },
     "metadata": {
      "needs_background": "light"
     },
     "output_type": "display_data"
    }
   ],
   "source": [
    "#plot San Bernadino county\n",
    "Target_County = county_df[\"county_name\"] == \"San Bernadino\"\n",
    "Target_County_df =county_df.loc[Target_County]\n",
    "Target_County_avg =Target_County_df.groupby(\"sample_date\").mean()[\"result\"]\n",
    "Target_County_av_df = pd.DataFrame({\"San Bernadino\": Target_County_avg})\n",
    "plt.plot(Target_County_av_df)"
   ]
  },
  {
   "cell_type": "code",
   "execution_count": 453,
   "metadata": {},
   "outputs": [
    {
     "data": {
      "text/plain": [
       "[<matplotlib.lines.Line2D at 0x7fce7003ce50>]"
      ]
     },
     "execution_count": 453,
     "metadata": {},
     "output_type": "execute_result"
    },
    {
     "data": {
      "image/png": "[encoded data removed]",
      "text/plain": [
       "<Figure size 432x288 with 1 Axes>"
      ]
     },
     "metadata": {
      "needs_background": "light"
     },
     "output_type": "display_data"
    }
   ],
   "source": [
    "#plot Kern county\n",
    "Kern_df = county_df.loc[county_df[\"county_name\"] == \"Kern\"]\n",
    "Kern_avg = Kern_df.groupby(\"sample_date\").mean()[\"result\"]\n",
    "Kern_av_df = pd.DataFrame({\"Kern\": Kern_avg})\n",
    "plt.plot(Kern_av_df)"
   ]
  },
  {
   "cell_type": "code",
   "execution_count": 454,
   "metadata": {},
   "outputs": [
    {
     "data": {
      "text/plain": [
       "[<matplotlib.lines.Line2D at 0x7fce36fabf10>]"
      ]
     },
     "execution_count": 454,
     "metadata": {},
     "output_type": "execute_result"
    },
    {
     "data": {
      "image/png": "[encoded data removed]",
      "text/plain": [
       "<Figure size 432x288 with 1 Axes>"
      ]
     },
     "metadata": {
      "needs_background": "light"
     },
     "output_type": "display_data"
    }
   ],
   "source": [
    "#plot Alameda county\n",
    "Target_County = county_df[\"county_name\"] == \"Alameda\"\n",
    "Target_County_df =county_df.loc[Target_County]\n",
    "Target_County_avg =Target_County_df.groupby(\"sample_date\").mean()[\"result\"]\n",
    "Target_County_av_df = pd.DataFrame({\"Alameda\": Target_County_avg})\n",
    "plt.plot(Target_County_av_df)"
   ]
  },
  {
   "cell_type": "code",
   "execution_count": 413,
   "metadata": {},
   "outputs": [],
   "source": [
    "#create a list of counties\n",
    "countys = ['Sacramento', 'Kern', 'Butte', 'Lassen', 'Shasta', 'Tehama', 'Modoc', 'Glenn',\n",
    " 'Colusa', 'Alpine', 'Humboldt', 'Mendocino','Lake','Trinity', 'Siskiyou',\n",
    " 'Sutter', 'Plumas', 'Mono', 'Los Angeles', 'Yolo', 'San Bernardino', 'Sierra',\n",
    " 'Alameda', 'Merced', 'Solano' ,'Contra Costa', 'Kings', 'Del Norte',\n",
    " 'Riverside', 'San Joaquin', 'Yuba', 'Tulare', 'Inyo', 'Imperial', 'El Dorado',\n",
    " 'Santa Cruz', 'Napa', 'Monterey', 'Fresno', 'San Diego', 'Calaveras', 'Amador',\n",
    " 'Sonoma', 'Santa Clara', 'Tuolumne', 'Placer', 'Ventura', 'San Luis Obispo',\n",
    " 'Santa Barbara', 'Nevada', 'Orange', 'Stanislaus', 'Madera', 'San Mateo',\n",
    " 'San Francisco', 'San Benito', 'Mariposa']\n",
    "#print the counties as a list\n",
    "\n",
    "    \n"
   ]
  },
  {
   "cell_type": "code",
   "execution_count": null,
   "metadata": {},
   "outputs": [],
   "source": []
  },
  {
   "cell_type": "code",
   "execution_count": null,
   "metadata": {},
   "outputs": [],
   "source": [
    "\n",
    "\n"
   ]
  },
  {
   "cell_type": "code",
   "execution_count": null,
   "metadata": {},
   "outputs": [],
   "source": []
  },
  {
   "cell_type": "code",
   "execution_count": 73,
   "metadata": {},
   "outputs": [],
   "source": [
    "\n"
   ]
  },
  {
   "cell_type": "code",
   "execution_count": null,
   "metadata": {},
   "outputs": [],
   "source": []
  },
  {
   "cell_type": "code",
   "execution_count": null,
   "metadata": {
    "scrolled": true
   },
   "outputs": [],
   "source": [
    "\n"
   ]
  },
  {
   "cell_type": "code",
   "execution_count": null,
   "metadata": {},
   "outputs": [],
   "source": []
  },
  {
   "cell_type": "code",
   "execution_count": 207,
   "metadata": {},
   "outputs": [
    {
     "ename": "AttributeError",
     "evalue": "'DataFrameGroupBy' object has no attribute 'sort_values'",
     "output_type": "error",
     "traceback": [
      "\u001b[0;31m---------------------------------------------------------------------------\u001b[0m",
      "\u001b[0;31mAttributeError\u001b[0m                            Traceback (most recent call last)",
      "Input \u001b[0;32mIn [207]\u001b[0m, in \u001b[0;36m<cell line: 5>\u001b[0;34m()\u001b[0m\n\u001b[1;32m      3\u001b[0m total_counties \u001b[38;5;241m=\u001b[39m sorted_ar_df[\u001b[38;5;124m'\u001b[39m\u001b[38;5;124mcounty_name\u001b[39m\u001b[38;5;124m'\u001b[39m]\u001b[38;5;241m.\u001b[39munique()\u001b[38;5;241m.\u001b[39msize\n\u001b[1;32m      4\u001b[0m worst_counties \u001b[38;5;241m=\u001b[39m sorted_top_offender_df\u001b[38;5;241m.\u001b[39mgroupby([\u001b[38;5;124m'\u001b[39m\u001b[38;5;124mcounty_name\u001b[39m\u001b[38;5;124m'\u001b[39m])\n\u001b[0;32m----> 5\u001b[0m sorted_station_summary \u001b[38;5;241m=\u001b[39m \u001b[43mworst_counties\u001b[49m\u001b[38;5;241;43m.\u001b[39;49m\u001b[43msort_values\u001b[49m([\u001b[38;5;124m'\u001b[39m\u001b[38;5;124mcounty_name\u001b[39m\u001b[38;5;124m'\u001b[39m], ascending\u001b[38;5;241m=\u001b[39m\u001b[38;5;28;01mFalse\u001b[39;00m)\n\u001b[1;32m      6\u001b[0m sorted_station_summary\n",
      "File \u001b[0;32m~/opt/anaconda3/lib/python3.9/site-packages/pandas/core/groupby/groupby.py:904\u001b[0m, in \u001b[0;36mGroupBy.__getattr__\u001b[0;34m(self, attr)\u001b[0m\n\u001b[1;32m    901\u001b[0m \u001b[38;5;28;01mif\u001b[39;00m attr \u001b[38;5;129;01min\u001b[39;00m \u001b[38;5;28mself\u001b[39m\u001b[38;5;241m.\u001b[39mobj:\n\u001b[1;32m    902\u001b[0m     \u001b[38;5;28;01mreturn\u001b[39;00m \u001b[38;5;28mself\u001b[39m[attr]\n\u001b[0;32m--> 904\u001b[0m \u001b[38;5;28;01mraise\u001b[39;00m \u001b[38;5;167;01mAttributeError\u001b[39;00m(\n\u001b[1;32m    905\u001b[0m     \u001b[38;5;124mf\u001b[39m\u001b[38;5;124m\"\u001b[39m\u001b[38;5;124m'\u001b[39m\u001b[38;5;132;01m{\u001b[39;00m\u001b[38;5;28mtype\u001b[39m(\u001b[38;5;28mself\u001b[39m)\u001b[38;5;241m.\u001b[39m\u001b[38;5;18m__name__\u001b[39m\u001b[38;5;132;01m}\u001b[39;00m\u001b[38;5;124m'\u001b[39m\u001b[38;5;124m object has no attribute \u001b[39m\u001b[38;5;124m'\u001b[39m\u001b[38;5;132;01m{\u001b[39;00mattr\u001b[38;5;132;01m}\u001b[39;00m\u001b[38;5;124m'\u001b[39m\u001b[38;5;124m\"\u001b[39m\n\u001b[1;32m    906\u001b[0m )\n",
      "\u001b[0;31mAttributeError\u001b[0m: 'DataFrameGroupBy' object has no attribute 'sort_values'"
     ]
    }
   ],
   "source": [
    "#count number of entries by county\n",
    "\n",
    "total_counties = sorted_ar_df['county_name'].unique().size\n",
    "worst_counties = sorted_top_offender_df.groupby(['county_name'])\n",
    "sorted_station_summary = worst_counties.sort_values(['county_name'], ascending=False)\n",
    "sorted_station_summary\n",
    "\n",
    "#total_counties\n"
   ]
  },
  {
   "cell_type": "code",
   "execution_count": null,
   "metadata": {},
   "outputs": [],
   "source": []
  },
  {
   "cell_type": "code",
   "execution_count": null,
   "metadata": {},
   "outputs": [],
   "source": []
  },
  {
   "cell_type": "code",
   "execution_count": null,
   "metadata": {
    "scrolled": true
   },
   "outputs": [],
   "source": [
    "\n"
   ]
  },
  {
   "cell_type": "code",
   "execution_count": null,
   "metadata": {},
   "outputs": [],
   "source": []
  },
  {
   "cell_type": "code",
   "execution_count": null,
   "metadata": {},
   "outputs": [],
   "source": []
  },
  {
   "cell_type": "code",
   "execution_count": null,
   "metadata": {},
   "outputs": [],
   "source": []
  },
  {
   "cell_type": "code",
   "execution_count": null,
   "metadata": {},
   "outputs": [],
   "source": []
  }
 ],
 "metadata": {
  "anaconda-cloud": {},
  "kernelspec": {
   "display_name": "Python 3 (ipykernel)",
   "language": "python",
   "name": "python3"
  },
  "language_info": {
   "codemirror_mode": {
    "name": "ipython",
    "version": 3
   },
   "file_extension": ".py",
   "mimetype": "text/x-python",
   "name": "python",
   "nbconvert_exporter": "python",
   "pygments_lexer": "ipython3",
   "version": "3.9.12"
  }
 },
 "nbformat": 4,
 "nbformat_minor": 4
}
