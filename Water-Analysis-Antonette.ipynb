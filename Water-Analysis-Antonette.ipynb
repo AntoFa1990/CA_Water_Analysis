{
 "cells": [
  {
   "cell_type": "markdown",
   "metadata": {},
   "source": [
    "# Water test\n",
    "--"
   ]
  },
  {
   "cell_type": "markdown",
   "metadata": {},
   "source": [
    "# Import Dependancies and Data files"
   ]
  },
  {
   "cell_type": "code",
<<<<<<< HEAD
   "execution_count": 12,
=======
   "execution_count": 2,
>>>>>>> Antonette_Branch
   "metadata": {},
   "outputs": [],
   "source": [
    "#Import dependancies\n",
    "import matplotlib.pyplot as plt\n",
    "import pandas as pd\n",
    "import numpy as np\n",
    "import requests\n",
    "import json\n",
    "import urllib.request\n",
    "\n",
    "import time\n",
    "from scipy.stats import linregress"
   ]
  },
  {
   "cell_type": "code",
<<<<<<< HEAD
   "execution_count": 13,
=======
   "execution_count": 3,
>>>>>>> Antonette_Branch
   "metadata": {
    "scrolled": false
   },
<<<<<<< HEAD
   "outputs": [
    {
     "data": {
      "text/html": [
       "<div>\n",
       "<style scoped>\n",
       "    .dataframe tbody tr th:only-of-type {\n",
       "        vertical-align: middle;\n",
       "    }\n",
       "\n",
       "    .dataframe tbody tr th {\n",
       "        vertical-align: top;\n",
       "    }\n",
       "\n",
       "    .dataframe thead th {\n",
       "        text-align: right;\n",
       "    }\n",
       "</style>\n",
       "<table border=\"1\" class=\"dataframe\">\n",
       "  <thead>\n",
       "    <tr style=\"text-align: right;\">\n",
       "      <th></th>\n",
       "      <th>station_id</th>\n",
       "      <th>station_name</th>\n",
       "      <th>full_station_name</th>\n",
       "      <th>station_number</th>\n",
       "      <th>station_type</th>\n",
       "      <th>latitude</th>\n",
       "      <th>longitude</th>\n",
       "      <th>status</th>\n",
       "      <th>county_name</th>\n",
       "      <th>sample_code</th>\n",
       "      <th>sample_date</th>\n",
       "      <th>sample_depth</th>\n",
       "      <th>sample_depth_units</th>\n",
       "      <th>parameter</th>\n",
       "      <th>result</th>\n",
       "      <th>reporting_limit</th>\n",
       "      <th>units</th>\n",
       "      <th>method_name</th>\n",
       "    </tr>\n",
       "  </thead>\n",
       "  <tbody>\n",
       "    <tr>\n",
       "      <th>0</th>\n",
       "      <td>13460</td>\n",
       "      <td>03S01E11H001M</td>\n",
       "      <td>03S01E11H001M</td>\n",
       "      <td>03S01E11H001M</td>\n",
       "      <td>Groundwater</td>\n",
       "      <td>37.6881</td>\n",
       "      <td>121.8270</td>\n",
       "      <td>Review Status Unknown</td>\n",
       "      <td>Alameda</td>\n",
       "      <td>WDIS_0309039</td>\n",
       "      <td>07/11/1975 11:30</td>\n",
       "      <td>NaN</td>\n",
       "      <td>Feet</td>\n",
       "      <td>Total Arsenic</td>\n",
       "      <td>0.0</td>\n",
       "      <td>0.001</td>\n",
       "      <td>mg/L</td>\n",
       "      <td>Std Method 3500-As, C</td>\n",
       "    </tr>\n",
       "    <tr>\n",
       "      <th>1</th>\n",
       "      <td>13494</td>\n",
       "      <td>03S02E07P003M</td>\n",
       "      <td>03S02E07P003M</td>\n",
       "      <td>03S02E07P003M</td>\n",
       "      <td>Groundwater</td>\n",
       "      <td>37.6809</td>\n",
       "      <td>121.7996</td>\n",
       "      <td>Review Status Unknown</td>\n",
       "      <td>Alameda</td>\n",
       "      <td>WDIS_0003482</td>\n",
       "      <td>02/12/1975 00:00</td>\n",
       "      <td>NaN</td>\n",
       "      <td>Feet</td>\n",
       "      <td>Total Arsenic</td>\n",
       "      <td>0.0</td>\n",
       "      <td>0.001</td>\n",
       "      <td>mg/L</td>\n",
       "      <td>UnkMod Arsenic</td>\n",
       "    </tr>\n",
       "    <tr>\n",
       "      <th>2</th>\n",
       "      <td>13494</td>\n",
       "      <td>03S02E07P003M</td>\n",
       "      <td>03S02E07P003M</td>\n",
       "      <td>03S02E07P003M</td>\n",
       "      <td>Groundwater</td>\n",
       "      <td>37.6809</td>\n",
       "      <td>121.7996</td>\n",
       "      <td>Review Status Unknown</td>\n",
       "      <td>Alameda</td>\n",
       "      <td>WDIS_0003485</td>\n",
       "      <td>03/05/1980 11:00</td>\n",
       "      <td>NaN</td>\n",
       "      <td>Feet</td>\n",
       "      <td>Total Arsenic</td>\n",
       "      <td>0.0</td>\n",
       "      <td>0.001</td>\n",
       "      <td>mg/L</td>\n",
       "      <td>UnkMod Arsenic</td>\n",
       "    </tr>\n",
       "    <tr>\n",
       "      <th>3</th>\n",
       "      <td>13494</td>\n",
       "      <td>03S02E07P003M</td>\n",
       "      <td>03S02E07P003M</td>\n",
       "      <td>03S02E07P003M</td>\n",
       "      <td>Groundwater</td>\n",
       "      <td>37.6809</td>\n",
       "      <td>121.7996</td>\n",
       "      <td>Review Status Unknown</td>\n",
       "      <td>Alameda</td>\n",
       "      <td>WDIS_0309048</td>\n",
       "      <td>04/22/1986 13:35</td>\n",
       "      <td>NaN</td>\n",
       "      <td>Feet</td>\n",
       "      <td>Total Arsenic</td>\n",
       "      <td>0.0</td>\n",
       "      <td>0.001</td>\n",
       "      <td>mg/L</td>\n",
       "      <td>UnkMod Arsenic</td>\n",
       "    </tr>\n",
       "    <tr>\n",
       "      <th>4</th>\n",
       "      <td>13494</td>\n",
       "      <td>03S02E07P003M</td>\n",
       "      <td>03S02E07P003M</td>\n",
       "      <td>03S02E07P003M</td>\n",
       "      <td>Groundwater</td>\n",
       "      <td>37.6809</td>\n",
       "      <td>121.7996</td>\n",
       "      <td>Review Status Unknown</td>\n",
       "      <td>Alameda</td>\n",
       "      <td>WDIS_0309041</td>\n",
       "      <td>05/06/1974 00:00</td>\n",
       "      <td>NaN</td>\n",
       "      <td>Feet</td>\n",
       "      <td>Total Arsenic</td>\n",
       "      <td>0.0</td>\n",
       "      <td>0.001</td>\n",
       "      <td>mg/L</td>\n",
       "      <td>UnkMod Arsenic</td>\n",
       "    </tr>\n",
       "  </tbody>\n",
       "</table>\n",
       "</div>"
      ],
      "text/plain": [
       "   station_id   station_name full_station_name station_number station_type  \\\n",
       "0       13460  03S01E11H001M     03S01E11H001M  03S01E11H001M  Groundwater   \n",
       "1       13494  03S02E07P003M     03S02E07P003M  03S02E07P003M  Groundwater   \n",
       "2       13494  03S02E07P003M     03S02E07P003M  03S02E07P003M  Groundwater   \n",
       "3       13494  03S02E07P003M     03S02E07P003M  03S02E07P003M  Groundwater   \n",
       "4       13494  03S02E07P003M     03S02E07P003M  03S02E07P003M  Groundwater   \n",
       "\n",
       "   latitude  longitude                 status county_name   sample_code  \\\n",
       "0   37.6881   121.8270  Review Status Unknown     Alameda  WDIS_0309039   \n",
       "1   37.6809   121.7996  Review Status Unknown     Alameda  WDIS_0003482   \n",
       "2   37.6809   121.7996  Review Status Unknown     Alameda  WDIS_0003485   \n",
       "3   37.6809   121.7996  Review Status Unknown     Alameda  WDIS_0309048   \n",
       "4   37.6809   121.7996  Review Status Unknown     Alameda  WDIS_0309041   \n",
       "\n",
       "        sample_date  sample_depth sample_depth_units      parameter  result  \\\n",
       "0  07/11/1975 11:30           NaN               Feet  Total Arsenic     0.0   \n",
       "1  02/12/1975 00:00           NaN               Feet  Total Arsenic     0.0   \n",
       "2  03/05/1980 11:00           NaN               Feet  Total Arsenic     0.0   \n",
       "3  04/22/1986 13:35           NaN               Feet  Total Arsenic     0.0   \n",
       "4  05/06/1974 00:00           NaN               Feet  Total Arsenic     0.0   \n",
       "\n",
       "   reporting_limit units            method_name  \n",
       "0            0.001  mg/L  Std Method 3500-As, C  \n",
       "1            0.001  mg/L         UnkMod Arsenic  \n",
       "2            0.001  mg/L         UnkMod Arsenic  \n",
       "3            0.001  mg/L         UnkMod Arsenic  \n",
       "4            0.001  mg/L         UnkMod Arsenic  "
      ]
     },
     "execution_count": 13,
     "metadata": {},
     "output_type": "execute_result"
    }
   ],
   "source": [
    "#import the csv file for arsenic data over CA history\n",
    "ar_data_import = \"../CA_Water_Analysis/Ar-Water-Lab-Data.csv\"\n",
    "\n",
    "ar_data = pd.read_csv(ar_data_import)\n",
    "ar_data.head()"
   ]
  },
  {
   "cell_type": "code",
   "execution_count": 14,
   "metadata": {
    "scrolled": false
   },
   "outputs": [
    {
     "data": {
      "text/html": [
       "<div>\n",
       "<style scoped>\n",
       "    .dataframe tbody tr th:only-of-type {\n",
       "        vertical-align: middle;\n",
       "    }\n",
       "\n",
       "    .dataframe tbody tr th {\n",
       "        vertical-align: top;\n",
       "    }\n",
       "\n",
       "    .dataframe thead th {\n",
       "        text-align: right;\n",
       "    }\n",
       "</style>\n",
       "<table border=\"1\" class=\"dataframe\">\n",
       "  <thead>\n",
       "    <tr style=\"text-align: right;\">\n",
       "      <th></th>\n",
       "      <th>station_id</th>\n",
       "      <th>station_name</th>\n",
       "      <th>full_station_name</th>\n",
       "      <th>station_number</th>\n",
       "      <th>station_type</th>\n",
       "      <th>latitude</th>\n",
       "      <th>longitude</th>\n",
       "      <th>status</th>\n",
       "      <th>county_name</th>\n",
       "      <th>sample_code</th>\n",
       "      <th>sample_date</th>\n",
       "      <th>sample_depth</th>\n",
       "      <th>sample_depth_units</th>\n",
       "      <th>parameter</th>\n",
       "      <th>result</th>\n",
       "      <th>reporting_limit</th>\n",
       "      <th>units</th>\n",
       "      <th>method_name</th>\n",
       "    </tr>\n",
       "  </thead>\n",
       "  <tbody>\n",
       "    <tr>\n",
       "      <th>30969</th>\n",
       "      <td>206</td>\n",
       "      <td>TWITCHELL01</td>\n",
       "      <td>Twitchell Island Sample 01</td>\n",
       "      <td>B9V80621369</td>\n",
       "      <td>Surface Water</td>\n",
       "      <td>38.1052</td>\n",
       "      <td>121.6173</td>\n",
       "      <td>Review Status Unknown</td>\n",
       "      <td>Sacramento</td>\n",
       "      <td>C1091A0836</td>\n",
       "      <td>10/18/1991 09:00</td>\n",
       "      <td>1.00</td>\n",
       "      <td>Meters</td>\n",
       "      <td>Dissolved Arsenic</td>\n",
       "      <td>5880.0</td>\n",
       "      <td>0.001</td>\n",
       "      <td>mg/L</td>\n",
       "      <td>Std Method 3114 C</td>\n",
       "    </tr>\n",
       "    <tr>\n",
       "      <th>44086</th>\n",
       "      <td>1806</td>\n",
       "      <td>MILL C NR MINERAL</td>\n",
       "      <td>MILL C NR MINERAL</td>\n",
       "      <td>A4418000</td>\n",
       "      <td>Surface Water</td>\n",
       "      <td>40.3621</td>\n",
       "      <td>121.5055</td>\n",
       "      <td>Review Status Unknown</td>\n",
       "      <td>Tehama</td>\n",
       "      <td>N0218B0268</td>\n",
       "      <td>02/13/2018 09:40</td>\n",
       "      <td>0.15</td>\n",
       "      <td>Meters</td>\n",
       "      <td>Dissolved Arsenic</td>\n",
       "      <td>98.7</td>\n",
       "      <td>0.100</td>\n",
       "      <td>ug/L</td>\n",
       "      <td>EPA 1638 (D)</td>\n",
       "    </tr>\n",
       "    <tr>\n",
       "      <th>44096</th>\n",
       "      <td>1806</td>\n",
       "      <td>MILL C NR MINERAL</td>\n",
       "      <td>MILL C NR MINERAL</td>\n",
       "      <td>A4418000</td>\n",
       "      <td>Surface Water</td>\n",
       "      <td>40.3621</td>\n",
       "      <td>121.5055</td>\n",
       "      <td>Review Status Unknown</td>\n",
       "      <td>Tehama</td>\n",
       "      <td>N0515B0361</td>\n",
       "      <td>05/12/2015 11:40</td>\n",
       "      <td>0.15</td>\n",
       "      <td>Meters</td>\n",
       "      <td>Dissolved Arsenic</td>\n",
       "      <td>90.8</td>\n",
       "      <td>0.100</td>\n",
       "      <td>ug/L</td>\n",
       "      <td>EPA 1638 (D)</td>\n",
       "    </tr>\n",
       "    <tr>\n",
       "      <th>44118</th>\n",
       "      <td>1806</td>\n",
       "      <td>MILL C NR MINERAL</td>\n",
       "      <td>MILL C NR MINERAL</td>\n",
       "      <td>A4418000</td>\n",
       "      <td>Surface Water</td>\n",
       "      <td>40.3621</td>\n",
       "      <td>121.5055</td>\n",
       "      <td>Review Status Unknown</td>\n",
       "      <td>Tehama</td>\n",
       "      <td>N1117B27840</td>\n",
       "      <td>11/20/2017 09:20</td>\n",
       "      <td>0.15</td>\n",
       "      <td>Meters</td>\n",
       "      <td>Dissolved Arsenic</td>\n",
       "      <td>93.7</td>\n",
       "      <td>0.100</td>\n",
       "      <td>ug/L</td>\n",
       "      <td>EPA 1638 (D)</td>\n",
       "    </tr>\n",
       "    <tr>\n",
       "      <th>12825</th>\n",
       "      <td>702</td>\n",
       "      <td>Semi Tropic 3 Pumpin</td>\n",
       "      <td>Semi Tropic 3 arsenic monitoring</td>\n",
       "      <td>KA020699</td>\n",
       "      <td>Surface Water</td>\n",
       "      <td>35.9833</td>\n",
       "      <td>119.9833</td>\n",
       "      <td>Review Status Unknown</td>\n",
       "      <td>Kern</td>\n",
       "      <td>SJA0907B1020</td>\n",
       "      <td>09/18/2007 09:10</td>\n",
       "      <td>1.00</td>\n",
       "      <td>Meters</td>\n",
       "      <td>Dissolved Chloride</td>\n",
       "      <td>96.0</td>\n",
       "      <td>1.000</td>\n",
       "      <td>mg/L</td>\n",
       "      <td>EPA 300.0 28d Hold</td>\n",
       "    </tr>\n",
       "    <tr>\n",
       "      <th>...</th>\n",
       "      <td>...</td>\n",
       "      <td>...</td>\n",
       "      <td>...</td>\n",
       "      <td>...</td>\n",
       "      <td>...</td>\n",
       "      <td>...</td>\n",
       "      <td>...</td>\n",
       "      <td>...</td>\n",
       "      <td>...</td>\n",
       "      <td>...</td>\n",
       "      <td>...</td>\n",
       "      <td>...</td>\n",
       "      <td>...</td>\n",
       "      <td>...</td>\n",
       "      <td>...</td>\n",
       "      <td>...</td>\n",
       "      <td>...</td>\n",
       "      <td>...</td>\n",
       "    </tr>\n",
       "    <tr>\n",
       "      <th>25466</th>\n",
       "      <td>44099</td>\n",
       "      <td>42N17E06P001M</td>\n",
       "      <td>42N17E06P001M</td>\n",
       "      <td>42N17E06P001M</td>\n",
       "      <td>Groundwater</td>\n",
       "      <td>41.5309</td>\n",
       "      <td>120.0827</td>\n",
       "      <td>Review Status Unknown</td>\n",
       "      <td>Modoc</td>\n",
       "      <td>NB1012B5142</td>\n",
       "      <td>10/09/2012 15:45</td>\n",
       "      <td>0.15</td>\n",
       "      <td>Meters</td>\n",
       "      <td>Total Arsenic</td>\n",
       "      <td>192.0</td>\n",
       "      <td>0.100</td>\n",
       "      <td>ug/L</td>\n",
       "      <td>EPA 1638 (T)</td>\n",
       "    </tr>\n",
       "    <tr>\n",
       "      <th>1767</th>\n",
       "      <td>46640</td>\n",
       "      <td>17N01E24A003M</td>\n",
       "      <td>17N01E24A003M</td>\n",
       "      <td>17N01E24A003M</td>\n",
       "      <td>Groundwater</td>\n",
       "      <td>39.3171</td>\n",
       "      <td>121.8004</td>\n",
       "      <td>Review Status Unknown</td>\n",
       "      <td>Butte</td>\n",
       "      <td>NB0507B0686</td>\n",
       "      <td>05/01/2007 13:45</td>\n",
       "      <td>0.00</td>\n",
       "      <td>Meters</td>\n",
       "      <td>Dissolved Arsenic</td>\n",
       "      <td>78.7</td>\n",
       "      <td>0.100</td>\n",
       "      <td>ug/L</td>\n",
       "      <td>EPA 1638 (D)</td>\n",
       "    </tr>\n",
       "    <tr>\n",
       "      <th>19158</th>\n",
       "      <td>45462</td>\n",
       "      <td>29N14E19A03 M</td>\n",
       "      <td>29N14E19A003M</td>\n",
       "      <td>29N14E19A003M</td>\n",
       "      <td>Groundwater</td>\n",
       "      <td>40.3616</td>\n",
       "      <td>120.4338</td>\n",
       "      <td>Review Status Unknown</td>\n",
       "      <td>Lassen</td>\n",
       "      <td>NB0812B5016</td>\n",
       "      <td>08/13/2012 14:10</td>\n",
       "      <td>0.00</td>\n",
       "      <td>Meters</td>\n",
       "      <td>Total Arsenic</td>\n",
       "      <td>78.0</td>\n",
       "      <td>0.100</td>\n",
       "      <td>ug/L</td>\n",
       "      <td>EPA 1638 (T)</td>\n",
       "    </tr>\n",
       "    <tr>\n",
       "      <th>19156</th>\n",
       "      <td>45462</td>\n",
       "      <td>29N14E19A03 M</td>\n",
       "      <td>29N14E19A003M</td>\n",
       "      <td>29N14E19A003M</td>\n",
       "      <td>Groundwater</td>\n",
       "      <td>40.3616</td>\n",
       "      <td>120.4338</td>\n",
       "      <td>Review Status Unknown</td>\n",
       "      <td>Lassen</td>\n",
       "      <td>NB0812B5016</td>\n",
       "      <td>08/13/2012 14:10</td>\n",
       "      <td>0.00</td>\n",
       "      <td>Meters</td>\n",
       "      <td>Dissolved Arsenic</td>\n",
       "      <td>76.4</td>\n",
       "      <td>0.100</td>\n",
       "      <td>ug/L</td>\n",
       "      <td>EPA 1638 (D)</td>\n",
       "    </tr>\n",
       "    <tr>\n",
       "      <th>9980</th>\n",
       "      <td>46053</td>\n",
       "      <td>22N02W30H002M</td>\n",
       "      <td>22N02W30H002M</td>\n",
       "      <td>22N02W30H002M</td>\n",
       "      <td>Groundwater</td>\n",
       "      <td>39.7324</td>\n",
       "      <td>122.1230</td>\n",
       "      <td>Review Status Unknown</td>\n",
       "      <td>Glenn</td>\n",
       "      <td>NB1111B4230</td>\n",
       "      <td>11/16/2011 14:30</td>\n",
       "      <td>0.00</td>\n",
       "      <td>Meters</td>\n",
       "      <td>Dissolved Arsenic</td>\n",
       "      <td>55.7</td>\n",
       "      <td>0.100</td>\n",
       "      <td>ug/L</td>\n",
       "      <td>EPA 1638 (D)</td>\n",
       "    </tr>\n",
       "  </tbody>\n",
       "</table>\n",
       "<p>100 rows × 18 columns</p>\n",
       "</div>"
      ],
      "text/plain": [
       "       station_id          station_name                 full_station_name  \\\n",
       "30969         206           TWITCHELL01        Twitchell Island Sample 01   \n",
       "44086        1806  MILL C NR MINERAL                    MILL C NR MINERAL   \n",
       "44096        1806  MILL C NR MINERAL                    MILL C NR MINERAL   \n",
       "44118        1806  MILL C NR MINERAL                    MILL C NR MINERAL   \n",
       "12825         702  Semi Tropic 3 Pumpin  Semi Tropic 3 arsenic monitoring   \n",
       "...           ...                   ...                               ...   \n",
       "25466       44099         42N17E06P001M                     42N17E06P001M   \n",
       "1767        46640         17N01E24A003M                     17N01E24A003M   \n",
       "19158       45462         29N14E19A03 M                     29N14E19A003M   \n",
       "19156       45462         29N14E19A03 M                     29N14E19A003M   \n",
       "9980        46053         22N02W30H002M                     22N02W30H002M   \n",
       "\n",
       "      station_number   station_type  latitude  longitude  \\\n",
       "30969    B9V80621369  Surface Water   38.1052   121.6173   \n",
       "44086       A4418000  Surface Water   40.3621   121.5055   \n",
       "44096       A4418000  Surface Water   40.3621   121.5055   \n",
       "44118       A4418000  Surface Water   40.3621   121.5055   \n",
       "12825       KA020699  Surface Water   35.9833   119.9833   \n",
       "...              ...            ...       ...        ...   \n",
       "25466  42N17E06P001M    Groundwater   41.5309   120.0827   \n",
       "1767   17N01E24A003M    Groundwater   39.3171   121.8004   \n",
       "19158  29N14E19A003M    Groundwater   40.3616   120.4338   \n",
       "19156  29N14E19A003M    Groundwater   40.3616   120.4338   \n",
       "9980   22N02W30H002M    Groundwater   39.7324   122.1230   \n",
       "\n",
       "                      status county_name   sample_code       sample_date  \\\n",
       "30969  Review Status Unknown  Sacramento    C1091A0836  10/18/1991 09:00   \n",
       "44086  Review Status Unknown      Tehama    N0218B0268  02/13/2018 09:40   \n",
       "44096  Review Status Unknown      Tehama    N0515B0361  05/12/2015 11:40   \n",
       "44118  Review Status Unknown      Tehama   N1117B27840  11/20/2017 09:20   \n",
       "12825  Review Status Unknown        Kern  SJA0907B1020  09/18/2007 09:10   \n",
       "...                      ...         ...           ...               ...   \n",
       "25466  Review Status Unknown       Modoc   NB1012B5142  10/09/2012 15:45   \n",
       "1767   Review Status Unknown       Butte   NB0507B0686  05/01/2007 13:45   \n",
       "19158  Review Status Unknown      Lassen   NB0812B5016  08/13/2012 14:10   \n",
       "19156  Review Status Unknown      Lassen   NB0812B5016  08/13/2012 14:10   \n",
       "9980   Review Status Unknown       Glenn   NB1111B4230  11/16/2011 14:30   \n",
       "\n",
       "       sample_depth sample_depth_units           parameter  result  \\\n",
       "30969          1.00             Meters   Dissolved Arsenic  5880.0   \n",
       "44086          0.15             Meters   Dissolved Arsenic    98.7   \n",
       "44096          0.15             Meters   Dissolved Arsenic    90.8   \n",
       "44118          0.15             Meters   Dissolved Arsenic    93.7   \n",
       "12825          1.00             Meters  Dissolved Chloride    96.0   \n",
       "...             ...                ...                 ...     ...   \n",
       "25466          0.15             Meters       Total Arsenic   192.0   \n",
       "1767           0.00             Meters   Dissolved Arsenic    78.7   \n",
       "19158          0.00             Meters       Total Arsenic    78.0   \n",
       "19156          0.00             Meters   Dissolved Arsenic    76.4   \n",
       "9980           0.00             Meters   Dissolved Arsenic    55.7   \n",
       "\n",
       "       reporting_limit units         method_name  \n",
       "30969            0.001  mg/L   Std Method 3114 C  \n",
       "44086            0.100  ug/L        EPA 1638 (D)  \n",
       "44096            0.100  ug/L        EPA 1638 (D)  \n",
       "44118            0.100  ug/L        EPA 1638 (D)  \n",
       "12825            1.000  mg/L  EPA 300.0 28d Hold  \n",
       "...                ...   ...                 ...  \n",
       "25466            0.100  ug/L        EPA 1638 (T)  \n",
       "1767             0.100  ug/L        EPA 1638 (D)  \n",
       "19158            0.100  ug/L        EPA 1638 (T)  \n",
       "19156            0.100  ug/L        EPA 1638 (D)  \n",
       "9980             0.100  ug/L        EPA 1638 (D)  \n",
       "\n",
       "[100 rows x 18 columns]"
      ]
     },
     "execution_count": 14,
     "metadata": {},
     "output_type": "execute_result"
    }
   ],
=======
   "outputs": [],
   "source": [
    "#import datafile from CSV sample file and name as a variable (Should be the CSV file we downloaded from CA open data that Adam cleaned up)\n",
    "ar_data_import = \"../CA_Water_Analysis/Ar-Water-Lab-Data.csv\"\n",
    "ar_data = pd.read_csv(ar_data_import)\n"
   ]
  },
  {
   "cell_type": "markdown",
   "metadata": {},
>>>>>>> Antonette_Branch
   "source": [
    "# Clean Data For Further Analysis"
   ]
  },
  {
   "cell_type": "code",
<<<<<<< HEAD
   "execution_count": 15,
=======
   "execution_count": 4,
   "metadata": {},
   "outputs": [],
   "source": [
    "#Clean data by splitting combined date and time from sample_date field into a single date only field.\n",
    "for idx, row in ar_data.iterrows(): \n",
    "    year=row['sample_date'].split(' ')[0].split('/')[-1]\n",
    "    date=row['sample_date'].split(' ')[0]\n",
    "    time=row['sample_date'].split(' ')[-1]\n",
    "    new_date=date.split('/')[:-1]\n",
    "    new_date=new_date+[f'{year}']\n",
    "    new_date_str='/'.join(new_date)\n",
    "    \n",
    "    ar_data.loc[idx, 'sample_date']=new_date_str\n"
   ]
  },
  {
   "cell_type": "code",
   "execution_count": null,
   "metadata": {},
   "outputs": [],
   "source": []
  },
  {
   "cell_type": "markdown",
   "metadata": {},
   "source": [
    "# Isolate Time Segmented Data for further analysis"
   ]
  },
  {
   "cell_type": "code",
   "execution_count": 5,
>>>>>>> Antonette_Branch
   "metadata": {},
   "outputs": [
    {
     "data": {
      "text/html": [
       "<div>\n",
       "<style scoped>\n",
       "    .dataframe tbody tr th:only-of-type {\n",
       "        vertical-align: middle;\n",
       "    }\n",
       "\n",
       "    .dataframe tbody tr th {\n",
       "        vertical-align: top;\n",
       "    }\n",
       "\n",
       "    .dataframe thead th {\n",
       "        text-align: right;\n",
       "    }\n",
       "</style>\n",
       "<table border=\"1\" class=\"dataframe\">\n",
       "  <thead>\n",
       "    <tr style=\"text-align: right;\">\n",
       "      <th></th>\n",
       "      <th>station_id</th>\n",
       "      <th>station_name</th>\n",
       "      <th>full_station_name</th>\n",
       "      <th>station_number</th>\n",
       "      <th>station_type</th>\n",
       "      <th>latitude</th>\n",
       "      <th>longitude</th>\n",
       "      <th>status</th>\n",
       "      <th>county_name</th>\n",
       "      <th>sample_code</th>\n",
       "      <th>sample_date</th>\n",
       "      <th>sample_depth</th>\n",
       "      <th>sample_depth_units</th>\n",
       "      <th>parameter</th>\n",
       "      <th>result</th>\n",
       "      <th>reporting_limit</th>\n",
       "      <th>units</th>\n",
       "      <th>method_name</th>\n",
       "    </tr>\n",
       "  </thead>\n",
       "  <tbody>\n",
       "    <tr>\n",
       "      <th>52</th>\n",
       "      <td>259</td>\n",
       "      <td>Del Valle COW</td>\n",
       "      <td>Del Valle Conserv. Outlet Works</td>\n",
       "      <td>DV000000</td>\n",
       "      <td>Surface Water</td>\n",
       "      <td>37.6183</td>\n",
       "      <td>121.7494</td>\n",
       "      <td>Review Status Unknown</td>\n",
       "      <td>Alameda</td>\n",
       "      <td>D0122B0070</td>\n",
       "      <td>2022-01-18</td>\n",
       "      <td>1.0</td>\n",
       "      <td>Meters</td>\n",
       "      <td>Dissolved Arsenic</td>\n",
       "      <td>2.520</td>\n",
       "      <td>1.000</td>\n",
       "      <td>ug/L</td>\n",
       "      <td>EPA 200.8 (D)</td>\n",
       "    </tr>\n",
       "    <tr>\n",
       "      <th>53</th>\n",
       "      <td>259</td>\n",
       "      <td>Del Valle COW</td>\n",
       "      <td>Del Valle Conserv. Outlet Works</td>\n",
       "      <td>DV000000</td>\n",
       "      <td>Surface Water</td>\n",
       "      <td>37.6183</td>\n",
       "      <td>121.7494</td>\n",
       "      <td>Review Status Unknown</td>\n",
       "      <td>Alameda</td>\n",
       "      <td>D0122B0070</td>\n",
       "      <td>2022-01-18</td>\n",
       "      <td>1.0</td>\n",
       "      <td>Meters</td>\n",
       "      <td>Total Arsenic</td>\n",
       "      <td>2.470</td>\n",
       "      <td>1.000</td>\n",
       "      <td>ug/L</td>\n",
       "      <td>EPA 200.8 (T)</td>\n",
       "    </tr>\n",
       "    <tr>\n",
       "      <th>54</th>\n",
       "      <td>259</td>\n",
       "      <td>Del Valle COW</td>\n",
       "      <td>Del Valle Conserv. Outlet Works</td>\n",
       "      <td>DV000000</td>\n",
       "      <td>Surface Water</td>\n",
       "      <td>37.6183</td>\n",
       "      <td>121.7494</td>\n",
       "      <td>Review Status Unknown</td>\n",
       "      <td>Alameda</td>\n",
       "      <td>D0116B0008</td>\n",
       "      <td>2016-01-19</td>\n",
       "      <td>1.0</td>\n",
       "      <td>Meters</td>\n",
       "      <td>Dissolved Arsenic</td>\n",
       "      <td>0.004</td>\n",
       "      <td>0.001</td>\n",
       "      <td>mg/L</td>\n",
       "      <td>EPA 200.8 (D)</td>\n",
       "    </tr>\n",
       "    <tr>\n",
       "      <th>55</th>\n",
       "      <td>259</td>\n",
       "      <td>Del Valle COW</td>\n",
       "      <td>Del Valle Conserv. Outlet Works</td>\n",
       "      <td>DV000000</td>\n",
       "      <td>Surface Water</td>\n",
       "      <td>37.6183</td>\n",
       "      <td>121.7494</td>\n",
       "      <td>Review Status Unknown</td>\n",
       "      <td>Alameda</td>\n",
       "      <td>D0116B0008</td>\n",
       "      <td>2016-01-19</td>\n",
       "      <td>1.0</td>\n",
       "      <td>Meters</td>\n",
       "      <td>Total Arsenic</td>\n",
       "      <td>0.004</td>\n",
       "      <td>0.001</td>\n",
       "      <td>mg/L</td>\n",
       "      <td>EPA 200.8 (T)</td>\n",
       "    </tr>\n",
       "    <tr>\n",
       "      <th>56</th>\n",
       "      <td>259</td>\n",
       "      <td>Del Valle COW</td>\n",
       "      <td>Del Valle Conserv. Outlet Works</td>\n",
       "      <td>DV000000</td>\n",
       "      <td>Surface Water</td>\n",
       "      <td>37.6183</td>\n",
       "      <td>121.7494</td>\n",
       "      <td>Review Status Unknown</td>\n",
       "      <td>Alameda</td>\n",
       "      <td>DA0212B3393</td>\n",
       "      <td>2012-02-13</td>\n",
       "      <td>1.0</td>\n",
       "      <td>Meters</td>\n",
       "      <td>Dissolved Arsenic</td>\n",
       "      <td>0.001</td>\n",
       "      <td>0.001</td>\n",
       "      <td>mg/L</td>\n",
       "      <td>EPA 200.8 (D)</td>\n",
       "    </tr>\n",
       "  </tbody>\n",
       "</table>\n",
       "</div>"
      ],
      "text/plain": [
       "    station_id   station_name                full_station_name station_number  \\\n",
       "52         259  Del Valle COW  Del Valle Conserv. Outlet Works       DV000000   \n",
       "53         259  Del Valle COW  Del Valle Conserv. Outlet Works       DV000000   \n",
       "54         259  Del Valle COW  Del Valle Conserv. Outlet Works       DV000000   \n",
       "55         259  Del Valle COW  Del Valle Conserv. Outlet Works       DV000000   \n",
       "56         259  Del Valle COW  Del Valle Conserv. Outlet Works       DV000000   \n",
       "\n",
       "     station_type  latitude  longitude                 status county_name  \\\n",
       "52  Surface Water   37.6183   121.7494  Review Status Unknown     Alameda   \n",
       "53  Surface Water   37.6183   121.7494  Review Status Unknown     Alameda   \n",
       "54  Surface Water   37.6183   121.7494  Review Status Unknown     Alameda   \n",
       "55  Surface Water   37.6183   121.7494  Review Status Unknown     Alameda   \n",
       "56  Surface Water   37.6183   121.7494  Review Status Unknown     Alameda   \n",
       "\n",
       "    sample_code sample_date  sample_depth sample_depth_units  \\\n",
       "52   D0122B0070  2022-01-18           1.0             Meters   \n",
       "53   D0122B0070  2022-01-18           1.0             Meters   \n",
       "54   D0116B0008  2016-01-19           1.0             Meters   \n",
       "55   D0116B0008  2016-01-19           1.0             Meters   \n",
       "56  DA0212B3393  2012-02-13           1.0             Meters   \n",
       "\n",
       "            parameter  result  reporting_limit units    method_name  \n",
       "52  Dissolved Arsenic   2.520            1.000  ug/L  EPA 200.8 (D)  \n",
       "53      Total Arsenic   2.470            1.000  ug/L  EPA 200.8 (T)  \n",
       "54  Dissolved Arsenic   0.004            0.001  mg/L  EPA 200.8 (D)  \n",
       "55      Total Arsenic   0.004            0.001  mg/L  EPA 200.8 (T)  \n",
       "56  Dissolved Arsenic   0.001            0.001  mg/L  EPA 200.8 (D)  "
      ]
     },
<<<<<<< HEAD
     "execution_count": 15,
=======
     "execution_count": 5,
>>>>>>> Antonette_Branch
     "metadata": {},
     "output_type": "execute_result"
    }
   ],
   "source": [
    "\n",
<<<<<<< HEAD
    "station_num = sorted_ar_df['county_name'].unique().size\n",
    "county_df = sorted_ar_df.groupby(['county_name']).count()\n",
    "sorted_county_df = county_df.sort_values(['county_name'], ascending=False)\n",
    "sorted_county_df"
=======
    "\n",
    "#convert sample date field to panda date format, print to check\n",
    "ar_data['sample_date'] = pd.to_datetime(ar_data['sample_date'])\n",
    "\n",
    "# Create DataFrame for 2012 to 2022\n",
    "ar_data_df = pd.DataFrame(ar_data)\n",
    "start_date = '2012-01-01'\n",
    "end_date = '2022-12-31'\n",
    "mask = (ar_data_df['sample_date'] > start_date) & (ar_data_df['sample_date'] <= end_date)\n",
    "  \n",
    "ar_data_df = ar_data_df.loc[mask]\n",
    "\n",
    "\n",
    "ar_data_df.head()"
>>>>>>> Antonette_Branch
   ]
  },
  {
   "cell_type": "code",
<<<<<<< HEAD
   "execution_count": 17,
   "metadata": {
    "scrolled": true
   },
   "outputs": [
    {
     "data": {
      "text/plain": [
       "<function matplotlib.pyplot.show(close=None, block=None)>"
      ]
     },
     "execution_count": 17,
     "metadata": {},
     "output_type": "execute_result"
    },
    {
     "data": {
      "image/png": "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\n",
      "text/plain": [
       "<Figure size 640x480 with 1 Axes>"
      ]
     },
     "metadata": {},
     "output_type": "display_data"
    }
   ],
   "source": [
    "station_id = sorted_ar_df[(sorted_ar_df[\"station_id\"]==12)]\n",
    "plt.plot(station_id['sample_date'], station_id['result'])\n",
    "plt.show\n"
=======
   "execution_count": 6,
   "metadata": {},
   "outputs": [
    {
     "name": "stdout",
     "output_type": "stream",
     "text": [
      "There were a total of 190512 Water Samples taken for Arsenic between 2012 and 2022\n"
     ]
    }
   ],
   "source": [
    "#count the number of samples for the period\n",
    "Total_Arsenic_Samples = ar_data_df.size\n",
    "\n",
    "print(f\"There were a total of {Total_Arsenic_Samples} Water Samples taken for Arsenic between 2012 and 2022\")"
   ]
  },
  {
   "cell_type": "markdown",
   "metadata": {},
   "source": [
    "# Ground Water vs. Surface Water Analysis"
   ]
  },
  {
   "cell_type": "code",
   "execution_count": 7,
   "metadata": {},
   "outputs": [],
   "source": [
    "#separate ground water from surface water temperatures\n",
    "\n",
    "#create a dataframe for Ground Water samples\n",
    "target_sample = ar_data_df[\"station_type\"] == \"Groundwater\"\n",
    "ground_df =ar_data_df.loc[target_sample]\n",
    "ground_avg =ground_df.groupby(\"sample_date\").mean()[\"result\"]\n",
    "ground_av_df = pd.DataFrame({\"Groundwater\": ground_avg})\n",
    "\n",
    "Total_Ground_Samples = ground_df.size\n",
    "\n",
    "#create a dataframe for Surface Water samples\n",
    "target_sample = ar_data_df[\"station_type\"] == \"Surface Water\"\n",
    "surface_df =ar_data_df.loc[target_sample]\n",
    "surface_avg =surface_df.groupby(\"sample_date\").mean()[\"result\"]\n",
    "surface_av_df = pd.DataFrame({\"Surface Water\": surface_avg})\n",
    "\n",
    "Total_Surface_Samples = surface_df.size\n",
    "\n",
    "\n"
   ]
  },
  {
   "cell_type": "code",
   "execution_count": 8,
   "metadata": {},
   "outputs": [
    {
     "name": "stdout",
     "output_type": "stream",
     "text": [
      "There were a total of 15516 Ground Samples and 173322 taken for Arsenic between 2012 and 2022\n"
     ]
    }
   ],
   "source": [
    "print(f\"There were a total of {Total_Ground_Samples} Ground Samples and {Total_Surface_Samples} taken for Arsenic between 2012 and 2022\")"
   ]
  },
  {
   "cell_type": "code",
   "execution_count": null,
   "metadata": {},
   "outputs": [],
   "source": [
    "\n"
>>>>>>> Antonette_Branch
   ]
  },
  {
   "cell_type": "code",
   "execution_count": 9,
   "metadata": {},
   "outputs": [
    {
     "name": "stdout",
     "output_type": "stream",
     "text": [
      "['Lassen' 'Tehama' 'Butte' 'Modoc' 'Glenn' 'Colusa' 'Trinity' 'Lake'\n",
      " 'Sutter' 'Siskiyou' 'Los Angeles' 'Yolo' 'San Bernardino' 'Shasta' 'Kern'\n",
      " 'Plumas' 'Alameda' 'Humboldt' 'Merced' 'Solano' 'Contra Costa' 'Kings']\n"
     ]
    }
   ],
   "source": [
    "#sort by the total amount of arsenic found (need to double check that all these values have been converted)\n",
    "sorted_recent_df = ar_data_df.sort_values(['result'], ascending=False)\n",
    "\n",
    "#create a new dataframe from 500 top offenders--this can be a variable\n",
    "top_offender_df = sorted_recent_df.head(1500)\n",
    "\n",
    "\n",
    "#Find out who they are\n",
    "total_dirty_counties = top_offender_df['county_name'].unique()\n",
    "print(total_dirty_counties)"
   ]
  },
  {
   "cell_type": "code",
   "execution_count": null,
   "metadata": {},
   "outputs": [],
   "source": []
  },
  {
   "cell_type": "code",
   "execution_count": 10,
   "metadata": {},
   "outputs": [
    {
     "data": {
      "text/plain": [
       "74286"
      ]
     },
     "execution_count": 10,
     "metadata": {},
     "output_type": "execute_result"
    }
   ],
   "source": [
    "#create a new dataframe of the county offenders and count how many samples there are\n",
    "\n",
    "county_df=sorted_recent_df.loc[(sorted_recent_df[\"county_name\"] == \"Kern\") |\n",
    "                              (sorted_recent_df[\"county_name\"] == \"Tehama\") |\n",
    "                              (sorted_recent_df[\"county_name\"] == \"Glen\") |\n",
    "                              (sorted_recent_df[\"county_name\"] == \"Shasta\") |\n",
    "                              (sorted_recent_df[\"county_name\"] == \"Modoc\") |\n",
    "                              (sorted_recent_df[\"county_name\"] == \"Los Angeles\") |\n",
    "                              (sorted_recent_df[\"county_name\"] == \"Alameda\") |\n",
    "                              (sorted_recent_df[\"county_name\"] == \"San Bernardino\")]\n",
    "\n",
    "county_df.size"
   ]
  },
  {
   "cell_type": "markdown",
   "metadata": {},
   "source": [
    "# County by County Analysis"
   ]
  },
  {
   "cell_type": "code",
   "execution_count": 11,
   "metadata": {},
   "outputs": [
    {
     "data": {
      "text/plain": [
       "Text(0, 0.5, 'Arsenic ppb')"
      ]
     },
     "execution_count": 11,
     "metadata": {},
     "output_type": "execute_result"
    },
    {
     "data": {
      "image/png": "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\n",
      "text/plain": [
       "<Figure size 432x288 with 1 Axes>"
      ]
     },
     "metadata": {
      "needs_background": "light"
     },
     "output_type": "display_data"
    }
   ],
   "source": [
    "#create a dataframe for Modoc County\n",
    "Target_County = county_df[\"county_name\"] == \"Modoc\"\n",
    "Target_County_df =county_df.loc[Target_County]\n",
    "Target_County_avg =Target_County_df.groupby(\"sample_date\").mean()[\"result\"]\n",
    "Target_County_av_df = pd.DataFrame({\"Modoc\": Target_County_avg})\n",
    "#plt.plot(Target_County_av_df)\n",
    "Modoc_Total_Samples = Target_County_av_df.size\n",
    "\n",
    "#print(f\"There were a total of {Modoc_Total_Samples} Arsenic Samples taken for Modoc County between 2012 and in 2022\")\n",
    "\n",
    "plt.plot(Target_County_av_df)\n",
    "plt.show\n",
    "#plt.bar(x_axis, Target_County, color='green', alpha=1, align='edge', width=0.6)\n",
    "#plt.xticks(ticks, type, rotation='vertical')\n",
    "plt.title = ('Average Arsenic Level 2012-2022')\n",
    "plt.xlabel('Modoc County 2012-2022')\n",
    "plt.ylabel('Arsenic ppb')"
   ]
  },
  {
   "cell_type": "code",
   "execution_count": 13,
   "metadata": {},
   "outputs": [
    {
     "data": {
      "text/plain": [
       "Text(0, 0.5, 'Arsenic ppb')"
      ]
     },
     "execution_count": 13,
     "metadata": {},
     "output_type": "execute_result"
    },
    {
     "data": {
      "image/png": "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\n",
      "text/plain": [
       "<Figure size 432x288 with 1 Axes>"
      ]
     },
     "metadata": {
      "needs_background": "light"
     },
     "output_type": "display_data"
    }
   ],
   "source": [
    "#create a dataframe for Tehama county\n",
    "Target_County = county_df[\"county_name\"] == \"Tehama\"\n",
    "Target_County_df =county_df.loc[Target_County]\n",
    "Target_County_avg =Target_County_df.groupby(\"sample_date\").mean()[\"result\"]\n",
    "Target_County_av_df = pd.DataFrame({\"Tehama\": Target_County_avg})\n",
    "Tehama_Total_Samples = Target_County_av_df.size\n",
    "\n",
    "#print(f\"There were a total of {Tehama_Total_Samples} Arsenic Samples taken for Tehama County between 2012 and in 2022\")\n",
    "plt.plot(Target_County_av_df)\n",
    "plt.show\n",
    "#plt.bar(x_axis, Target_County, color='green', alpha=1, align='edge', width=0.6)\n",
    "#plt.xticks(ticks, type, rotation='vertical')\n",
    "plt.title = ('Average Arsenic Level 2012-2022')\n",
    "plt.xlabel('Tehama County 2012-2022')\n",
    "plt.ylabel('Arsenic ppb')\n"
   ]
  },
  {
   "cell_type": "code",
   "execution_count": 223,
   "metadata": {},
   "outputs": [
    {
     "name": "stdout",
     "output_type": "stream",
     "text": [
      "There were a total of 8694 Arsenic Samples taken for San Bernardino County between 2012 and in 2022\n"
     ]
    }
   ],
   "source": [
    "#plot San Bernadino county\n",
    "Target_County = county_df[\"county_name\"] == \"San Bernardino\"\n",
    "Target_County_df =county_df.loc[Target_County]\n",
    "Target_County_avg =Target_County_df.groupby(\"sample_date\").mean()[\"result\"]\n",
    "Target_County_av_df = pd.DataFrame({\"San Bernardino\": Target_County_avg})\n",
    "SanBern_Total_Samples = Target_County_df.size\n",
    "\n",
    "print(f\"There were a total of {SanBern_Total_Samples} Arsenic Samples taken for San Bernardino County between 2012 and in 2022\")\n"
   ]
  },
  {
   "cell_type": "code",
   "execution_count": 220,
   "metadata": {},
   "outputs": [
    {
     "name": "stdout",
     "output_type": "stream",
     "text": [
      "There were a total of 11970 Samples for Kern County from 2012 to 2022\n"
     ]
    }
   ],
   "source": [
    "#plot Kern county\n",
    "Kern_df = county_df.loc[county_df[\"county_name\"] == \"Kern\"]\n",
    "Kern_avg = Kern_df.groupby(\"sample_date\").mean()[\"result\"]\n",
    "Kern_av_df = pd.DataFrame({\"Kern\": Kern_avg})\n",
    "Kern_Total_Samples = Kern_df.size\n",
    "\n",
    "print(f\"There were a total of {Kern_Total_Samples} Samples for Kern County from 2012 to 2022\")\n"
   ]
  },
  {
   "cell_type": "code",
   "execution_count": 221,
   "metadata": {},
   "outputs": [
    {
     "data": {
      "text/plain": [
       "10548"
      ]
     },
     "execution_count": 221,
     "metadata": {},
     "output_type": "execute_result"
    }
   ],
   "source": [
    "#plot Alameda county\n",
    "Target_County = county_df[\"county_name\"] == \"Alameda\"\n",
    "Target_County_df =county_df.loc[Target_County]\n",
    "Target_County_avg =Target_County_df.groupby(\"sample_date\").mean()[\"result\"]\n",
    "Target_County_av_df = pd.DataFrame({\"Alameda\": Target_County_avg})\n",
    "\n",
    "Target_County_df.size"
   ]
  },
  {
   "cell_type": "code",
   "execution_count": 222,
   "metadata": {},
   "outputs": [
    {
     "data": {
      "text/plain": [
       "['Sacramento',\n",
       " 'Kern',\n",
       " 'Butte',\n",
       " 'Lassen',\n",
       " 'Shasta',\n",
       " 'Tehama',\n",
       " 'Modoc',\n",
       " 'Glenn',\n",
       " 'Colusa',\n",
       " 'Alpine',\n",
       " 'Humboldt',\n",
       " 'Mendocino',\n",
       " 'Lake',\n",
       " 'Trinity',\n",
       " 'Siskiyou',\n",
       " 'Sutter',\n",
       " 'Plumas',\n",
       " 'Mono',\n",
       " 'Los Angeles',\n",
       " 'Yolo',\n",
       " 'San Bernardino',\n",
       " 'Sierra',\n",
       " 'Alameda',\n",
       " 'Merced',\n",
       " 'Solano',\n",
       " 'Contra Costa',\n",
       " 'Kings',\n",
       " 'Del Norte',\n",
       " 'Riverside',\n",
       " 'San Joaquin',\n",
       " 'Yuba',\n",
       " 'Tulare',\n",
       " 'Inyo',\n",
       " 'Imperial',\n",
       " 'El Dorado',\n",
       " 'Santa Cruz',\n",
       " 'Napa',\n",
       " 'Monterey',\n",
       " 'Fresno',\n",
       " 'San Diego',\n",
       " 'Calaveras',\n",
       " 'Amador',\n",
       " 'Sonoma',\n",
       " 'Santa Clara',\n",
       " 'Tuolumne',\n",
       " 'Placer',\n",
       " 'Ventura',\n",
       " 'San Luis Obispo',\n",
       " 'Santa Barbara',\n",
       " 'Nevada',\n",
       " 'Orange',\n",
       " 'Stanislaus',\n",
       " 'Madera',\n",
       " 'San Mateo',\n",
       " 'San Francisco',\n",
       " 'San Benito',\n",
       " 'Mariposa']"
      ]
     },
     "execution_count": 222,
     "metadata": {},
     "output_type": "execute_result"
    }
   ],
   "source": [
    "#create a list of all counties\n",
    "countys =[]\n",
    "countys = ['Sacramento', 'Kern', 'Butte', 'Lassen', 'Shasta', 'Tehama', 'Modoc', 'Glenn',\n",
    " 'Colusa', 'Alpine', 'Humboldt', 'Mendocino','Lake','Trinity', 'Siskiyou',\n",
    " 'Sutter', 'Plumas', 'Mono', 'Los Angeles', 'Yolo', 'San Bernardino', 'Sierra',\n",
    " 'Alameda', 'Merced', 'Solano' ,'Contra Costa', 'Kings', 'Del Norte',\n",
    " 'Riverside', 'San Joaquin', 'Yuba', 'Tulare', 'Inyo', 'Imperial', 'El Dorado',\n",
    " 'Santa Cruz', 'Napa', 'Monterey', 'Fresno', 'San Diego', 'Calaveras', 'Amador',\n",
    " 'Sonoma', 'Santa Clara', 'Tuolumne', 'Placer', 'Ventura', 'San Luis Obispo',\n",
    " 'Santa Barbara', 'Nevada', 'Orange', 'Stanislaus', 'Madera', 'San Mateo',\n",
    " 'San Francisco', 'San Benito', 'Mariposa']\n",
    "#print the counties as a list\n",
    "\n",
    "countys\n",
    "\n",
    "    \n"
   ]
  },
  {
   "cell_type": "code",
   "execution_count": 20,
   "metadata": {},
   "outputs": [
    {
     "data": {
      "text/plain": [
       "array(['Tehama', 'Glenn', 'Los Angeles', 'San Bernardino', 'Kern',\n",
       "       'Shasta', 'Modoc', 'Alameda'], dtype=object)"
      ]
     },
     "execution_count": 20,
     "metadata": {},
     "output_type": "execute_result"
    }
   ],
   "source": [
    "#Create a list of Dirty Counties\n",
    "#create a list of all counties\n",
    "dirty_countys = []\n",
    "dirty_countys = total_dirty_counties\n",
    "\n",
    "dirty_countys\n"
   ]
  },
  {
   "cell_type": "code",
   "execution_count": 23,
   "metadata": {},
   "outputs": [
    {
     "data": {
      "text/plain": [
       "8"
      ]
     },
     "execution_count": 23,
     "metadata": {},
     "output_type": "execute_result"
    }
   ],
   "source": [
    "dirty_countys.size\n",
    "\n"
   ]
  },
  {
   "cell_type": "code",
   "execution_count": 237,
   "metadata": {},
   "outputs": [
    {
     "data": {
      "text/plain": [
       "<function matplotlib.pyplot.show(close=None, block=None)>"
      ]
     },
     "execution_count": 237,
     "metadata": {},
     "output_type": "execute_result"
    },
    {
     "data": {
      "image/png": "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\n",
      "text/plain": [
       "<Figure size 432x288 with 1 Axes>"
      ]
     },
     "metadata": {
      "needs_background": "light"
     },
     "output_type": "display_data"
    }
   ],
   "source": [
    "plt.title = ('sample chart')\n",
    "y1 = [1, 2]\n",
    "x1 = [1, 3]\n",
    "\n",
    "y2 = [0.5, 0.7, 0.6, 0.9]\n",
    "x2 = [0.7, 1.3, 2.7, 3.3]\n",
    "\n",
    "plt.bar(x1, y1, width=1.5)\n",
    "plt.bar(x2, y2, width=0.5)\n",
    "\n",
    "plt.show\n"
   ]
  },
  {
   "cell_type": "code",
   "execution_count": 73,
   "metadata": {},
   "outputs": [],
   "source": [
    "\n"
   ]
  },
  {
   "cell_type": "code",
   "execution_count": null,
   "metadata": {},
   "outputs": [],
   "source": []
  },
  {
   "cell_type": "code",
   "execution_count": null,
   "metadata": {
    "scrolled": true
   },
   "outputs": [],
   "source": [
    "\n"
   ]
  },
  {
   "cell_type": "code",
   "execution_count": null,
   "metadata": {},
   "outputs": [],
   "source": []
  },
  {
   "cell_type": "code",
   "execution_count": null,
   "metadata": {},
   "outputs": [],
   "source": []
  },
  {
   "cell_type": "code",
   "execution_count": null,
   "metadata": {},
   "outputs": [],
   "source": []
  },
  {
   "cell_type": "code",
   "execution_count": null,
   "metadata": {},
   "outputs": [],
   "source": []
  },
  {
   "cell_type": "code",
   "execution_count": null,
   "metadata": {
    "scrolled": true
   },
   "outputs": [],
   "source": [
    "\n"
   ]
  },
  {
   "cell_type": "code",
   "execution_count": null,
   "metadata": {},
   "outputs": [],
   "source": []
  },
  {
   "cell_type": "code",
   "execution_count": null,
   "metadata": {},
   "outputs": [],
   "source": []
  },
  {
   "cell_type": "code",
   "execution_count": null,
   "metadata": {},
   "outputs": [],
   "source": []
  },
  {
   "cell_type": "code",
   "execution_count": null,
   "metadata": {},
   "outputs": [],
   "source": []
  }
 ],
 "metadata": {
  "anaconda-cloud": {},
  "kernelspec": {
   "display_name": "Python 3 (ipykernel)",
   "language": "python",
   "name": "python3"
  },
  "language_info": {
   "codemirror_mode": {
    "name": "ipython",
    "version": 3
   },
   "file_extension": ".py",
   "mimetype": "text/x-python",
   "name": "python",
   "nbconvert_exporter": "python",
   "pygments_lexer": "ipython3",
   "version": "3.7.13"
  }
 },
 "nbformat": 4,
 "nbformat_minor": 4
}
