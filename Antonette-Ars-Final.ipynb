{
 "cells": [
  {
   "cell_type": "markdown",
   "metadata": {},
   "source": [
    "# Analysis of Arsenic Data\n",
    "--"
   ]
  },
  {
   "cell_type": "markdown",
   "metadata": {},
   "source": [
    "# Import Dependancies and Data files"
   ]
  },
  {
   "cell_type": "code",
   "execution_count": 1,
   "metadata": {},
   "outputs": [],
   "source": [
    "#Import dependancies\n",
    "import matplotlib.pyplot as plt\n",
    "import pandas as pd\n",
    "import numpy as np\n",
    "import requests\n",
    "import json\n",
    "import urllib.request\n",
    "\n",
    "import time\n",
    "from scipy.stats import linregress"
   ]
  },
  {
   "cell_type": "code",
   "execution_count": 2,
   "metadata": {
    "scrolled": false
   },
   "outputs": [],
   "source": [
    "#import datafile from CSV sample file and name as a variable (Should be the CSV file we downloaded from CA open data that Adam cleaned up)\n",
    "ar_data_import = \"../CA_Water_Analysis/Ar-Water-Lab-Data.csv\"\n",
    "ar_data = pd.read_csv(ar_data_import)\n"
   ]
  },
  {
   "cell_type": "markdown",
   "metadata": {},
   "source": [
    "# Clean Data For Further Analysis"
   ]
  },
  {
   "cell_type": "code",
   "execution_count": 3,
   "metadata": {},
   "outputs": [],
   "source": [
    "#Clean data by splitting combined date and time from sample_date field into a single date only field.\n",
    "for idx, row in ar_data.iterrows(): \n",
    "    year=row['sample_date'].split(' ')[0].split('/')[-1]\n",
    "    date=row['sample_date'].split(' ')[0]\n",
    "    time=row['sample_date'].split(' ')[-1]\n",
    "    new_date=date.split('/')[:-1]\n",
    "    new_date=new_date+[f'{year}']\n",
    "    new_date_str='/'.join(new_date)\n",
    "    \n",
    "    ar_data.loc[idx, 'sample_date']=new_date_str\n"
   ]
  },
  {
   "cell_type": "code",
   "execution_count": null,
   "metadata": {},
   "outputs": [],
   "source": []
  },
  {
   "cell_type": "markdown",
   "metadata": {},
   "source": [
    "# Isolate Time Segmented Data for further analysis"
   ]
  },
  {
   "cell_type": "code",
   "execution_count": 4,
   "metadata": {},
   "outputs": [
    {
     "data": {
      "text/html": [
       "<div>\n",
       "<style scoped>\n",
       "    .dataframe tbody tr th:only-of-type {\n",
       "        vertical-align: middle;\n",
       "    }\n",
       "\n",
       "    .dataframe tbody tr th {\n",
       "        vertical-align: top;\n",
       "    }\n",
       "\n",
       "    .dataframe thead th {\n",
       "        text-align: right;\n",
       "    }\n",
       "</style>\n",
       "<table border=\"1\" class=\"dataframe\">\n",
       "  <thead>\n",
       "    <tr style=\"text-align: right;\">\n",
       "      <th></th>\n",
       "      <th>station_id</th>\n",
       "      <th>station_name</th>\n",
       "      <th>full_station_name</th>\n",
       "      <th>station_number</th>\n",
       "      <th>station_type</th>\n",
       "      <th>latitude</th>\n",
       "      <th>longitude</th>\n",
       "      <th>status</th>\n",
       "      <th>county_name</th>\n",
       "      <th>sample_code</th>\n",
       "      <th>sample_date</th>\n",
       "      <th>sample_depth</th>\n",
       "      <th>sample_depth_units</th>\n",
       "      <th>parameter</th>\n",
       "      <th>result</th>\n",
       "      <th>reporting_limit</th>\n",
       "      <th>units</th>\n",
       "      <th>method_name</th>\n",
       "    </tr>\n",
       "  </thead>\n",
       "  <tbody>\n",
       "    <tr>\n",
       "      <th>52</th>\n",
       "      <td>259</td>\n",
       "      <td>Del Valle COW</td>\n",
       "      <td>Del Valle Conserv. Outlet Works</td>\n",
       "      <td>DV000000</td>\n",
       "      <td>Surface Water</td>\n",
       "      <td>37.6183</td>\n",
       "      <td>121.7494</td>\n",
       "      <td>Review Status Unknown</td>\n",
       "      <td>Alameda</td>\n",
       "      <td>D0122B0070</td>\n",
       "      <td>2022-01-18</td>\n",
       "      <td>1.0</td>\n",
       "      <td>Meters</td>\n",
       "      <td>Dissolved Arsenic</td>\n",
       "      <td>2.520</td>\n",
       "      <td>1.000</td>\n",
       "      <td>ug/L</td>\n",
       "      <td>EPA 200.8 (D)</td>\n",
       "    </tr>\n",
       "    <tr>\n",
       "      <th>53</th>\n",
       "      <td>259</td>\n",
       "      <td>Del Valle COW</td>\n",
       "      <td>Del Valle Conserv. Outlet Works</td>\n",
       "      <td>DV000000</td>\n",
       "      <td>Surface Water</td>\n",
       "      <td>37.6183</td>\n",
       "      <td>121.7494</td>\n",
       "      <td>Review Status Unknown</td>\n",
       "      <td>Alameda</td>\n",
       "      <td>D0122B0070</td>\n",
       "      <td>2022-01-18</td>\n",
       "      <td>1.0</td>\n",
       "      <td>Meters</td>\n",
       "      <td>Total Arsenic</td>\n",
       "      <td>2.470</td>\n",
       "      <td>1.000</td>\n",
       "      <td>ug/L</td>\n",
       "      <td>EPA 200.8 (T)</td>\n",
       "    </tr>\n",
       "    <tr>\n",
       "      <th>54</th>\n",
       "      <td>259</td>\n",
       "      <td>Del Valle COW</td>\n",
       "      <td>Del Valle Conserv. Outlet Works</td>\n",
       "      <td>DV000000</td>\n",
       "      <td>Surface Water</td>\n",
       "      <td>37.6183</td>\n",
       "      <td>121.7494</td>\n",
       "      <td>Review Status Unknown</td>\n",
       "      <td>Alameda</td>\n",
       "      <td>D0116B0008</td>\n",
       "      <td>2016-01-19</td>\n",
       "      <td>1.0</td>\n",
       "      <td>Meters</td>\n",
       "      <td>Dissolved Arsenic</td>\n",
       "      <td>0.004</td>\n",
       "      <td>0.001</td>\n",
       "      <td>mg/L</td>\n",
       "      <td>EPA 200.8 (D)</td>\n",
       "    </tr>\n",
       "    <tr>\n",
       "      <th>55</th>\n",
       "      <td>259</td>\n",
       "      <td>Del Valle COW</td>\n",
       "      <td>Del Valle Conserv. Outlet Works</td>\n",
       "      <td>DV000000</td>\n",
       "      <td>Surface Water</td>\n",
       "      <td>37.6183</td>\n",
       "      <td>121.7494</td>\n",
       "      <td>Review Status Unknown</td>\n",
       "      <td>Alameda</td>\n",
       "      <td>D0116B0008</td>\n",
       "      <td>2016-01-19</td>\n",
       "      <td>1.0</td>\n",
       "      <td>Meters</td>\n",
       "      <td>Total Arsenic</td>\n",
       "      <td>0.004</td>\n",
       "      <td>0.001</td>\n",
       "      <td>mg/L</td>\n",
       "      <td>EPA 200.8 (T)</td>\n",
       "    </tr>\n",
       "    <tr>\n",
       "      <th>56</th>\n",
       "      <td>259</td>\n",
       "      <td>Del Valle COW</td>\n",
       "      <td>Del Valle Conserv. Outlet Works</td>\n",
       "      <td>DV000000</td>\n",
       "      <td>Surface Water</td>\n",
       "      <td>37.6183</td>\n",
       "      <td>121.7494</td>\n",
       "      <td>Review Status Unknown</td>\n",
       "      <td>Alameda</td>\n",
       "      <td>DA0212B3393</td>\n",
       "      <td>2012-02-13</td>\n",
       "      <td>1.0</td>\n",
       "      <td>Meters</td>\n",
       "      <td>Dissolved Arsenic</td>\n",
       "      <td>0.001</td>\n",
       "      <td>0.001</td>\n",
       "      <td>mg/L</td>\n",
       "      <td>EPA 200.8 (D)</td>\n",
       "    </tr>\n",
       "  </tbody>\n",
       "</table>\n",
       "</div>"
      ],
      "text/plain": [
       "    station_id   station_name                full_station_name station_number  \\\n",
       "52         259  Del Valle COW  Del Valle Conserv. Outlet Works       DV000000   \n",
       "53         259  Del Valle COW  Del Valle Conserv. Outlet Works       DV000000   \n",
       "54         259  Del Valle COW  Del Valle Conserv. Outlet Works       DV000000   \n",
       "55         259  Del Valle COW  Del Valle Conserv. Outlet Works       DV000000   \n",
       "56         259  Del Valle COW  Del Valle Conserv. Outlet Works       DV000000   \n",
       "\n",
       "     station_type  latitude  longitude                 status county_name  \\\n",
       "52  Surface Water   37.6183   121.7494  Review Status Unknown     Alameda   \n",
       "53  Surface Water   37.6183   121.7494  Review Status Unknown     Alameda   \n",
       "54  Surface Water   37.6183   121.7494  Review Status Unknown     Alameda   \n",
       "55  Surface Water   37.6183   121.7494  Review Status Unknown     Alameda   \n",
       "56  Surface Water   37.6183   121.7494  Review Status Unknown     Alameda   \n",
       "\n",
       "    sample_code sample_date  sample_depth sample_depth_units  \\\n",
       "52   D0122B0070  2022-01-18           1.0             Meters   \n",
       "53   D0122B0070  2022-01-18           1.0             Meters   \n",
       "54   D0116B0008  2016-01-19           1.0             Meters   \n",
       "55   D0116B0008  2016-01-19           1.0             Meters   \n",
       "56  DA0212B3393  2012-02-13           1.0             Meters   \n",
       "\n",
       "            parameter  result  reporting_limit units    method_name  \n",
       "52  Dissolved Arsenic   2.520            1.000  ug/L  EPA 200.8 (D)  \n",
       "53      Total Arsenic   2.470            1.000  ug/L  EPA 200.8 (T)  \n",
       "54  Dissolved Arsenic   0.004            0.001  mg/L  EPA 200.8 (D)  \n",
       "55      Total Arsenic   0.004            0.001  mg/L  EPA 200.8 (T)  \n",
       "56  Dissolved Arsenic   0.001            0.001  mg/L  EPA 200.8 (D)  "
      ]
     },
     "execution_count": 4,
     "metadata": {},
     "output_type": "execute_result"
    }
   ],
   "source": [
    "\n",
    "\n",
    "#convert sample date field to panda date format, print to check\n",
    "ar_data['sample_date'] = pd.to_datetime(ar_data['sample_date'])\n",
    "\n",
    "# Create DataFrame for 2012 to 2022\n",
    "ar_data_df = pd.DataFrame(ar_data)\n",
    "start_date = '2012-01-01'\n",
    "end_date = '2022-12-31'\n",
    "mask = (ar_data_df['sample_date'] > start_date) & (ar_data_df['sample_date'] <= end_date)\n",
    "  \n",
    "ar_data_df = ar_data_df.loc[mask]\n",
    "\n",
    "\n",
    "ar_data_df.head()"
   ]
  },
  {
   "cell_type": "code",
   "execution_count": 8,
   "metadata": {},
   "outputs": [
    {
     "name": "stdout",
     "output_type": "stream",
     "text": [
      "There were a total of 190512 Water Samples taken for Arsenic between 2012 and 2022\n"
     ]
    }
   ],
   "source": [
    "#count the number of results for the period\n",
    "Total_Arsenic_Samples = ar_data_df.size\n",
    "\n",
    "print(f\"There were a total of {Total_Arsenic_Samples} Water Samples taken for Arsenic between 2012 and 2022\")"
   ]
  },
  {
   "cell_type": "markdown",
   "metadata": {},
   "source": [
    "# Ground Water vs. Surface Water Analysis"
   ]
  },
  {
   "cell_type": "code",
   "execution_count": 9,
   "metadata": {},
   "outputs": [
    {
     "name": "stdout",
     "output_type": "stream",
     "text": [
      "Surface Water 9629\n",
      "Groundwater 862\n",
      "Other 93\n"
     ]
    }
   ],
   "source": [
    "#create a list of stations, indexed by the type of station\n",
    "\n",
    "stations_list = ar_data_df['station_type'].value_counts().index\n",
    "\n",
    "s_list = []\n",
    "\n",
    "for station in stations_list:\n",
    "    #print(station)\n",
    "    df = ar_data_df.loc[ar_data_df['station_type']==station]\n",
    "    #print the number of datapoints by station type\n",
    "    print(station,len(df))\n",
    "    #print(len(df))"
   ]
  },
  {
   "cell_type": "code",
   "execution_count": 10,
   "metadata": {},
   "outputs": [
    {
     "data": {
      "image/png": "[encoded data removed]",
      "text/plain": [
       "<Figure size 432x288 with 1 Axes>"
      ]
     },
     "metadata": {},
     "output_type": "display_data"
    }
   ],
   "source": [
    "# Create pie chart to display samples by type of test for the period\n",
    "labels = ['Surface Water', 'Groundwater']\n",
    "sizes = [9629, 862]\n",
    "\n",
    "# Pie Chart Plot\n",
    "fig1, ax1 = plt.subplots()\n",
    "ax1.pie(sizes, labels=labels, autopct='%1.1f%%', shadow=True, startangle=90)\n",
    "ax1.axis('equal')  # note: Equal aspect ratio ensures that pie is drawn as a circle\n",
    "\n",
    "# Plot title on left\n",
    "#plt.title(\"Arsenic 2012-2022\", loc='left')\n",
    "\n",
    "# Plot legend at the bottom\n",
    "plt.legend(labels, loc='center left', bbox_to_anchor=(0.9, 0, 0.5, 1))\n",
    "\n",
    "# Display the Pie Chart\n",
    "plt.show()\n",
    "\n"
   ]
  },
  {
   "cell_type": "code",
   "execution_count": 11,
   "metadata": {},
   "outputs": [
    {
     "name": "stdout",
     "output_type": "stream",
     "text": [
      "Index(['Surface Water', 'Groundwater', 'Other'], dtype='object')\n",
      "Index(['Surface Water', 'Groundwater', 'Other'], dtype='object')\n",
      "Index(['Surface Water', 'Groundwater', 'Other'], dtype='object')\n"
     ]
    }
   ],
   "source": [
    "#create a list of stations, indexed by the type of station\n",
    "\n",
    "stations_list = ar_data_df['station_type'].value_counts().index\n",
    "\n",
    "s_list = []\n",
    "\n",
    "for station in stations_list:\n",
    "    #print(station)\n",
    "    df = ar_data_df.loc[ar_data_df['station_type']==station]\n",
    "    #print the number of datapoints by station type\n",
    "    #print(station,len(df))\n",
    "    result = df[\"result\"].nunique()\n",
    "    print(stations_list)"
   ]
  },
  {
   "cell_type": "code",
   "execution_count": 12,
   "metadata": {},
   "outputs": [
    {
     "data": {
      "image/png": "[encoded data removed]",
      "text/plain": [
       "<Figure size 432x288 with 1 Axes>"
      ]
     },
     "metadata": {
      "needs_background": "light"
     },
     "output_type": "display_data"
    }
   ],
   "source": [
    "import matplotlib.pyplot as plt\n",
    "import numpy as np\n",
    "\n",
    "# Data\n",
    "labels = ['Surface Water', 'Groundwater']\n",
    "sizes = [9629, 862]\n",
    "\n",
    "# Plotting as a Bar Chart\n",
    "fig, ax = plt.subplots()\n",
    "y_pos = np.arange(len(labels))\n",
    "ax.bar(y_pos, sizes, align='center', alpha=0.5, color=['red', 'green', 'blue'], edgecolor='black')\n",
    "\n",
    "# Title and X and Y Axis Labels\n",
    "#plt.title(\"Water sources\")\n",
    "plt.xticks(y_pos, labels)\n",
    "plt.xlabel(\"Station Types\")\n",
    "plt.ylabel(\"Total Arsenic Samples\")\n",
    "\n",
    "# Display the Stacked Bar Chart\n",
    "plt.show()\n"
   ]
  },
  {
   "cell_type": "code",
   "execution_count": null,
   "metadata": {},
   "outputs": [],
   "source": []
  },
  {
   "cell_type": "markdown",
   "metadata": {},
   "source": [
    "# County by County Analysis"
   ]
  },
  {
   "cell_type": "code",
   "execution_count": 16,
   "metadata": {},
   "outputs": [
    {
     "name": "stdout",
     "output_type": "stream",
     "text": [
      "Butte 1144\n",
      "Tehama 1010\n",
      "Merced 995\n",
      "Shasta 927\n",
      "Kern 665\n",
      "Alameda 586\n",
      "Plumas 531\n",
      "San Bernardino 483\n",
      "Lake 455\n",
      "San Joaquin 448\n",
      "Contra Costa 373\n",
      "Sacramento 340\n",
      "Sutter 320\n",
      "Modoc 318\n",
      "Kings 273\n",
      "Solano 254\n",
      "Lassen 221\n",
      "Yolo 211\n",
      "Glenn 189\n",
      "Colusa 165\n",
      "Humboldt 146\n",
      "Los Angeles 138\n",
      "Siskiyou 80\n",
      "Yuba 63\n",
      "Riverside 62\n",
      "Mendocino 46\n",
      "Del Norte 36\n",
      "Fresno 33\n",
      "Trinity 18\n",
      "Amador 16\n",
      "Napa 15\n",
      "Calaveras 9\n",
      "Santa Clara 8\n",
      "Sierra 4\n",
      "San Luis Obispo 2\n"
     ]
    }
   ],
   "source": [
    "#create a list of countys, indexed by county\n",
    "\n",
    "countys_list = ar_data_df['county_name'].value_counts().index\n",
    "\n",
    "c_list = []\n",
    "\n",
    "for county in countys_list:\n",
    "    #print(county)\n",
    "    df = ar_data_df.loc[ar_data_df['county_name']==county]\n",
    "    #print the number of datapoints by county type\n",
    "    print(county,len(df))\n",
    "    #result = df[\"result\"].nunique()\n",
    "    #print(stations_list)\n"
   ]
  },
  {
   "cell_type": "code",
   "execution_count": 73,
   "metadata": {},
   "outputs": [],
   "source": [
    "\n"
   ]
  },
  {
   "cell_type": "code",
   "execution_count": null,
   "metadata": {},
   "outputs": [],
   "source": []
  },
  {
   "cell_type": "code",
   "execution_count": null,
   "metadata": {
    "scrolled": true
   },
   "outputs": [],
   "source": [
    "\n"
   ]
  },
  {
   "cell_type": "code",
   "execution_count": null,
   "metadata": {},
   "outputs": [],
   "source": []
  },
  {
   "cell_type": "code",
   "execution_count": null,
   "metadata": {},
   "outputs": [],
   "source": []
  },
  {
   "cell_type": "code",
   "execution_count": null,
   "metadata": {},
   "outputs": [],
   "source": []
  },
  {
   "cell_type": "code",
   "execution_count": null,
   "metadata": {},
   "outputs": [],
   "source": []
  },
  {
   "cell_type": "code",
   "execution_count": null,
   "metadata": {
    "scrolled": true
   },
   "outputs": [],
   "source": [
    "\n"
   ]
  },
  {
   "cell_type": "code",
   "execution_count": null,
   "metadata": {},
   "outputs": [],
   "source": []
  },
  {
   "cell_type": "code",
   "execution_count": null,
   "metadata": {},
   "outputs": [],
   "source": []
  },
  {
   "cell_type": "code",
   "execution_count": null,
   "metadata": {},
   "outputs": [],
   "source": []
  },
  {
   "cell_type": "code",
   "execution_count": null,
   "metadata": {},
   "outputs": [],
   "source": []
  }
 ],
 "metadata": {
  "anaconda-cloud": {},
  "kernelspec": {
   "display_name": "Python 3 (ipykernel)",
   "language": "python",
   "name": "python3"
  },
  "language_info": {
   "codemirror_mode": {
    "name": "ipython",
    "version": 3
   },
   "file_extension": ".py",
   "mimetype": "text/x-python",
   "name": "python",
   "nbconvert_exporter": "python",
   "pygments_lexer": "ipython3",
   "version": "3.9.12"
  }
 },
 "nbformat": 4,
 "nbformat_minor": 4
}
